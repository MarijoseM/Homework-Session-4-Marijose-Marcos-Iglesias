{
 "cells": [
  {
   "cell_type": "markdown",
   "metadata": {},
   "source": [
    "![ieseg logo](./img/ieseg.png)\n",
    "\n",
    "#### MBD 2021-2022\n",
    "# Statistical & Machine Learning Approaches for Marketing\n",
    "\n",
    "## Section 4: Tree-Based Methods - with Solution"
   ]
  },
  {
   "cell_type": "markdown",
   "metadata": {},
   "source": [
    "### 1. Import all required libraries and datasets"
   ]
  },
  {
   "cell_type": "code",
   "execution_count": 29,
   "metadata": {},
   "outputs": [
    {
     "name": "stderr",
     "output_type": "stream",
     "text": [
      "Warning message:\n",
      "\"package 'mlr' was built under R version 3.6.3\""
     ]
    },
    {
     "ename": "ERROR",
     "evalue": "Error: package or namespace load failed for 'mlr' in loadNamespace(j <- i[[1L]], c(lib.loc, .libPaths()), versionCheck = vI[[j]]):\n there is no package called 'pillar'\n",
     "output_type": "error",
     "traceback": [
      "Error: package or namespace load failed for 'mlr' in loadNamespace(j <- i[[1L]], c(lib.loc, .libPaths()), versionCheck = vI[[j]]):\n there is no package called 'pillar'\nTraceback:\n",
      "1. library(mlr)",
      "2. tryCatch({\n .     attr(package, \"LibPath\") <- which.lib.loc\n .     ns <- loadNamespace(package, lib.loc)\n .     env <- attachNamespace(ns, pos = pos, deps, exclude, include.only)\n . }, error = function(e) {\n .     P <- if (!is.null(cc <- conditionCall(e))) \n .         paste(\" in\", deparse(cc)[1L])\n .     else \"\"\n .     msg <- gettextf(\"package or namespace load failed for %s%s:\\n %s\", \n .         sQuote(package), P, conditionMessage(e))\n .     if (logical.return) \n .         message(paste(\"Error:\", msg), domain = NA)\n .     else stop(msg, call. = FALSE, domain = NA)\n . })",
      "3. tryCatchList(expr, classes, parentenv, handlers)",
      "4. tryCatchOne(expr, names, parentenv, handlers[[1L]])",
      "5. value[[3L]](cond)",
      "6. stop(msg, call. = FALSE, domain = NA)"
     ]
    }
   ],
   "source": [
    "# Set environment params\n",
    "Sys.setenv(LANG='en')  # English\n",
    "\n",
    "# Import libraries\n",
    "library(data.table)    # Data manipulate\n",
    "library(mlr)           # ML toolkit\n",
    "library(caret)         # ML toolkit\n",
    "library(ggplot2)       # Visualization\n",
    "library(pROC)          # AUC, ROC\n",
    "library(tree)          # CART model\n",
    "library(randomForest)  # Bagging and RF\n",
    "library(gbm)           # Boosting tree\n",
    "\n",
    "# Import data\n",
    "library(ISLR)      # Data from the course book\n",
    "library(MASS)      # Boston housing dataset\n",
    "library(datasets)  # US crime dataset\n",
    "\n",
    "# Resize plot\n",
    "library(repr)  # String and binary representations\n",
    "#options(repr.plot.width=4, repr.plot.height=4)\n",
    "\n",
    "R.version.string"
   ]
  },
  {
   "cell_type": "code",
   "execution_count": 38,
   "metadata": {},
   "outputs": [
    {
     "name": "stdout",
     "output_type": "stream",
     "text": [
      "\n",
      "  There is a binary version available but the source version is later:\n",
      "     binary source needs_compilation\n",
      "tree 1.0-40 1.0-41              TRUE\n",
      "\n",
      "  Binaries will be installed\n",
      "package 'tree' successfully unpacked and MD5 sums checked\n",
      "\n",
      "The downloaded binary packages are in\n",
      "\tC:\\Users\\mmarcosiglesias\\AppData\\Local\\Temp\\RtmpqiYQ6A\\downloaded_packages\n"
     ]
    },
    {
     "name": "stderr",
     "output_type": "stream",
     "text": [
      "Warning message:\n",
      "\"package 'tree' was built under R version 3.6.3\""
     ]
    }
   ],
   "source": [
    "install.packages('tree')\n",
    "library(tree)"
   ]
  },
  {
   "cell_type": "markdown",
   "metadata": {},
   "source": [
    "### 2. First ideas about Decision Tree"
   ]
  },
  {
   "cell_type": "markdown",
   "metadata": {},
   "source": [
    "**Example 1:** Student performance prediction\n",
    "\n",
    "Q1: Classification or Regression?\n",
    "\n",
    "Q2: Plot the data to 2 dimensional space (G1, G2) with 2 response classes (pass=Y/N) to see the data relationship.\n",
    "\n",
    "Q3: Use tree() function to construct a decision tree model to predict student performance."
   ]
  },
  {
   "cell_type": "code",
   "execution_count": 39,
   "metadata": {},
   "outputs": [
    {
     "name": "stdout",
     "output_type": "stream",
     "text": [
      "'data.frame':\t395 obs. of  3 variables:\n",
      " $ G1  : int  5 5 7 15 6 15 12 6 16 14 ...\n",
      " $ G2  : int  6 5 8 14 10 15 12 5 18 15 ...\n",
      " $ pass: Factor w/ 2 levels \"N\",\"Y\": 1 1 2 2 2 2 2 1 2 2 ...\n"
     ]
    }
   ],
   "source": [
    "# Student performance dataset\n",
    "# G1, G2, G3: first period, second period and final grade (numeric: from 0 to 20)\n",
    "student <- read.csv('./data/student/student-mat.csv', sep=';')\n",
    "student$pass <- as.factor(ifelse(student$G3 >= 10, 'Y', 'N'))\n",
    "str(student[, c('G1', 'G2', 'pass')])"
   ]
  },
  {
   "cell_type": "markdown",
   "metadata": {},
   "source": [
    "**Q2:** Plot the data to 2 dimensional space (G1, G2) with 2 response classes (pass=Y/N) to see the data relationship."
   ]
  },
  {
   "cell_type": "code",
   "execution_count": 40,
   "metadata": {},
   "outputs": [
    {
     "data": {
      "image/png": "[encoded data removed]",
      "text/plain": [
       "plot without title"
      ]
     },
     "metadata": {},
     "output_type": "display_data"
    }
   ],
   "source": [
    "# Plot the partition of tree\n",
    "options(repr.plot.width=6, repr.plot.height=6.5)\n",
    "plot(student$G2, student$G1,\n",
    "     pch=c('x', '+')[as.numeric(student$pass)],\n",
    "     col=c('red', 'green')[as.numeric(student$pass)],\n",
    "     cex=0.7,\n",
    "     xlab='G2', ylab='G1'\n",
    "    )"
   ]
  },
  {
   "cell_type": "markdown",
   "metadata": {},
   "source": [
    "**Q3:** Use tree() function to construct a decision tree model to predict student performance."
   ]
  },
  {
   "cell_type": "code",
   "execution_count": 41,
   "metadata": {},
   "outputs": [],
   "source": [
    "# Build simple decision tree model from Titanic dataset\n",
    "md_tree <- tree(pass ~ G1 + G2, data=student)"
   ]
  },
  {
   "cell_type": "code",
   "execution_count": 42,
   "metadata": {},
   "outputs": [
    {
     "data": {
      "image/png": "[encoded data removed]",
      "text/plain": [
       "plot without title"
      ]
     },
     "metadata": {},
     "output_type": "display_data"
    }
   ],
   "source": [
    "# Plot the tree\n",
    "options(repr.plot.width=10, repr.plot.height=5)\n",
    "par(cex.lab=0.8, cex.axis=0.8, cex.main=0.8, cex.sub=0.8)\n",
    "plot(md_tree)  # Plot the tree\n",
    "text(md_tree, pretty=1)  # Add text"
   ]
  },
  {
   "cell_type": "code",
   "execution_count": 43,
   "metadata": {},
   "outputs": [
    {
     "data": {
      "image/png": "[encoded data removed]",
      "text/plain": [
       "plot without title"
      ]
     },
     "metadata": {},
     "output_type": "display_data"
    }
   ],
   "source": [
    "# Plot the partition of tree\n",
    "options(repr.plot.width=6, repr.plot.height=6.5)\n",
    "partition.tree(md_tree)\n",
    "points(student$G2, student$G1,\n",
    "       pch=c('x', '+')[as.numeric(student$pass)],\n",
    "       col=c('red', 'green')[as.numeric(student$pass)],\n",
    "       cex=0.7\n",
    "      )"
   ]
  },
  {
   "cell_type": "code",
   "execution_count": 44,
   "metadata": {},
   "outputs": [
    {
     "name": "stdout",
     "output_type": "stream",
     "text": [
      "node), split, n, deviance, yval, (yprob)\n",
      "      * denotes terminal node\n",
      "\n",
      " 1) root 395 500.500 Y ( 0.32911 0.67089 )  \n",
      "   2) G2 < 9.5 146 130.500 N ( 0.83562 0.16438 )  \n",
      "     4) G2 < 7.5 64   0.000 N ( 1.00000 0.00000 ) *\n",
      "     5) G2 > 7.5 82  99.140 N ( 0.70732 0.29268 )  \n",
      "      10) G1 < 7.5 16   7.481 N ( 0.93750 0.06250 ) *\n",
      "      11) G1 > 7.5 66  85.340 N ( 0.65152 0.34848 ) *\n",
      "   3) G2 > 9.5 249  70.750 Y ( 0.03213 0.96787 )  \n",
      "     6) G1 < 10.5 54  45.300 Y ( 0.14815 0.85185 ) *\n",
      "     7) G1 > 10.5 195   0.000 Y ( 0.00000 1.00000 ) *\n"
     ]
    }
   ],
   "source": [
    "# Print out the tree details\n",
    "print(md_tree)"
   ]
  },
  {
   "cell_type": "markdown",
   "metadata": {},
   "source": [
    "Deviance of the node of the classification tree.\n",
    "\n",
    "![deviance_formula](./img/deviance.png)"
   ]
  },
  {
   "cell_type": "code",
   "execution_count": 45,
   "metadata": {},
   "outputs": [],
   "source": [
    "# Define the function to calculate the deviance for classification tree\n",
    "node_deviance_classification_tree <- function(node_dependent_var) {\n",
    "    \"\n",
    "    This function calculate the deviance at a node of the binary tree for classification problem.\n",
    "    This metric is closely related to cross-entropy.\n",
    "    Ref: http://www2.stat.duke.edu/~rcs46/lectures_2017/08-trees/08-tree-classification.pdf\n",
    "\n",
    "    Input:\n",
    "        node_dependent_var : the subset of dependent variable of current node, 2 classes [0, 1]\n",
    "    \"\n",
    "\n",
    "    num_class_1 <- sum(node_dependent_var == 1)\n",
    "    prob_class_1 <- num_class_1 / length(node_dependent_var)\n",
    "\n",
    "    num_class_0 <- sum(node_dependent_var == 0)\n",
    "    prob_class_0 <- num_class_0 / length(node_dependent_var)\n",
    "\n",
    "    node_deviance <- -2 * (num_class_1 * log(prob_class_1) + num_class_0 * log(prob_class_0))\n",
    "}"
   ]
  },
  {
   "cell_type": "code",
   "execution_count": 46,
   "metadata": {},
   "outputs": [
    {
     "name": "stdout",
     "output_type": "stream",
     "text": [
      "[1] \"Root: 500.504\"\n",
      "[1] \"1st left branch: 130.4854\"\n",
      "[1] \"1st right branch: 70.7484\"\n"
     ]
    }
   ],
   "source": [
    "# Deviance at the root (or 1st node)\n",
    "node_1 <- student\n",
    "deviance_node_1 <- node_deviance_classification_tree(node_1$pass == 'Y')\n",
    "\n",
    "# Deviance at the first left branch (or 2nd node)\n",
    "node_2 <- node_1[node_1$G2 < 9.5, ]\n",
    "deviance_node_2 <- node_deviance_classification_tree(node_2$pass == 'Y')\n",
    "\n",
    "# Deviance at the first right branch (or 3rd node)\n",
    "node_3 <- node_1[node_1$G2 > 9.5, ]\n",
    "deviance_node_3 <- node_deviance_classification_tree(node_3$pass == 'Y')\n",
    "\n",
    "# Compare deviance\n",
    "print(paste(\"Root:\", round(deviance_node_1, 4)))  # Max deviance, root (no split)\n",
    "print(paste(\"1st left branch:\", round(deviance_node_2, 4)))  # First split, left branch\n",
    "print(paste(\"1st right branch:\", round(deviance_node_3, 4)))  # Second split, right branch"
   ]
  },
  {
   "cell_type": "markdown",
   "metadata": {},
   "source": [
    "### 3. Regression Trees"
   ]
  },
  {
   "cell_type": "markdown",
   "metadata": {},
   "source": [
    "**Example 2:** Baseball Players' Salary prediction.\n",
    "\n",
    "Q1: What does the distribution of the Salary look like? How about the log(Salary)?\n",
    "\n",
    "Q2: Divide train (first 132 obs.) and test (last 131 obs.) sets.\n",
    "\n",
    "Q3: Build and plot a regression decision tree on train data. Plot and interpret the decision tree.\n",
    "\n",
    "Q4: Prune the decision tree using cost-complexity pruning. Plot and interpret the pruned tree.\n",
    "\n",
    "Q5: Compare the performance of full Regression Tree and pruned Regression Tree on test data.\n",
    "\n",
    "Q6: Plot the tree pruning process."
   ]
  },
  {
   "cell_type": "code",
   "execution_count": 47,
   "metadata": {},
   "outputs": [
    {
     "name": "stdout",
     "output_type": "stream",
     "text": [
      "'data.frame':\t322 obs. of  7 variables:\n",
      " $ Salary : num  NA 475 480 500 91.5 750 70 100 75 1100 ...\n",
      " $ Years  : int  1 14 3 11 2 11 2 3 2 13 ...\n",
      " $ RBI    : int  29 38 72 78 42 51 8 24 32 66 ...\n",
      " $ Hits   : int  66 81 130 141 87 169 37 73 81 92 ...\n",
      " $ PutOuts: int  446 632 880 200 805 282 76 121 143 0 ...\n",
      " $ Walks  : int  14 39 76 37 30 35 21 7 8 65 ...\n",
      " $ Runs   : int  30 24 66 65 39 74 23 24 26 49 ...\n"
     ]
    }
   ],
   "source": [
    "# Inport the Baseball Players' data in 1987\n",
    "# Source: https://cran.r-project.org/web/packages/ISLR/ISLR.pdf\n",
    "# Consider only this subset of variables\n",
    "# Salary: 1987 annual salary on opening day in thousands of dollars\n",
    "# Years: Number of years in the major leagues\n",
    "# RBI: Number of runs batted in in 1986\n",
    "# Hits: Number of hits in 1986\n",
    "# PutOuts: Number of put outs in 1986\n",
    "# Walks: Number of walks in 1986\n",
    "# Runs: Number of runs in 1986\n",
    "ht <- ISLR::Hitters\n",
    "str(ht[, c('Salary', 'Years', 'RBI', 'Hits', 'PutOuts', 'Walks', 'Runs')])"
   ]
  },
  {
   "cell_type": "markdown",
   "metadata": {},
   "source": [
    "**Q1:** What does the distribution of the Salary look like? How about the log(Salary)?"
   ]
  },
  {
   "cell_type": "code",
   "execution_count": 48,
   "metadata": {},
   "outputs": [
    {
     "data": {
      "text/plain": [
       "   Min. 1st Qu.  Median    Mean 3rd Qu.    Max.    NA's \n",
       "   67.5   190.0   425.0   535.9   750.0  2460.0      59 "
      ]
     },
     "metadata": {},
     "output_type": "display_data"
    },
    {
     "data": {
      "image/png": "[encoded data removed]",
      "text/plain": [
       "Plot with title \"Baseball Players' Salary Histogram (1987)\""
      ]
     },
     "metadata": {},
     "output_type": "display_data"
    }
   ],
   "source": [
    "# Observe the annual salary value (in thousands of dollars)\n",
    "summary(ht$Salary)\n",
    "\n",
    "options(repr.plot.width=6, repr.plot.height=6.5)\n",
    "par(cex.lab=0.8, cex.axis=0.8, cex.main=0.8, cex.sub=0.8)\n",
    "hist(ht$Salary,\n",
    "     main=\"Baseball Players' Salary Histogram (1987)\",\n",
    "     xlab='Salary (thousands of dollars)')"
   ]
  },
  {
   "cell_type": "code",
   "execution_count": 49,
   "metadata": {},
   "outputs": [
    {
     "data": {
      "text/plain": [
       "   Min. 1st Qu.  Median    Mean 3rd Qu.    Max. \n",
       "  4.212   5.247   6.052   5.927   6.620   7.808 "
      ]
     },
     "metadata": {},
     "output_type": "display_data"
    },
    {
     "data": {
      "image/png": "[encoded data removed]",
      "text/plain": [
       "Plot with title \"Baseball Players' Salary Histogram (1987)\""
      ]
     },
     "metadata": {},
     "output_type": "display_data"
    }
   ],
   "source": [
    "# Drop obs. with Salary == NA\n",
    "ht <- ht[!is.na(ht$Salary), ]\n",
    "\n",
    "# Log-transform Salary\n",
    "ht$Salary <- log(ht$Salary)\n",
    "\n",
    "# Print out to check\n",
    "summary(ht$Salary)\n",
    "\n",
    "# Plot the transformed Salary\n",
    "options(repr.plot.width=6, repr.plot.height=6.5)\n",
    "par(cex.lab=0.8, cex.axis=0.8, cex.main=0.8, cex.sub=0.8)\n",
    "hist(ht$Salary,\n",
    "     main=\"Baseball Players' Salary Histogram (1987)\",\n",
    "     xlab='Log(Salary)')"
   ]
  },
  {
   "cell_type": "markdown",
   "metadata": {},
   "source": [
    "**Q2:** Divide train (first 132 obs.) and test (last 131 obs.) sets."
   ]
  },
  {
   "cell_type": "code",
   "execution_count": 50,
   "metadata": {},
   "outputs": [],
   "source": [
    "# Train-test split\n",
    "set.seed(1)  # High variance\n",
    "train_idx <- sample(1:nrow(ht), 132)\n",
    "train_ht <- ht[train_idx, ]  # 132 obs.\n",
    "test_ht <- ht[-train_idx, ]  # 131 obs."
   ]
  },
  {
   "cell_type": "markdown",
   "metadata": {},
   "source": [
    "**Q3:** Build and plot a regression decision tree on train data. Plot and interpret the decision tree."
   ]
  },
  {
   "cell_type": "code",
   "execution_count": 51,
   "metadata": {},
   "outputs": [
    {
     "data": {
      "image/png": "[encoded data removed]",
      "text/plain": [
       "plot without title"
      ]
     },
     "metadata": {},
     "output_type": "display_data"
    }
   ],
   "source": [
    "# Fit full regression tree (top-down greedy splitting)\n",
    "md_regtree <- tree(Salary ~ Years + RBI + Hits + PutOuts + Walks + Runs, data=train_ht)\n",
    "\n",
    "# Plot the regression tree\n",
    "options(repr.plot.width=15, repr.plot.height=6)\n",
    "plot(md_regtree, type='uniform')\n",
    "text(md_regtree, pretty=0)"
   ]
  },
  {
   "cell_type": "code",
   "execution_count": 52,
   "metadata": {},
   "outputs": [
    {
     "data": {
      "text/plain": [
       "node), split, n, deviance, yval\n",
       "      * denotes terminal node\n",
       "\n",
       " 1) root 132 103.0000 5.938  \n",
       "   2) Years < 4.5 47  25.6100 5.164  \n",
       "     4) Runs < 74.5 38  15.7300 4.978  \n",
       "       8) Years < 3.5 25  11.0400 4.771  \n",
       "        16) Walks < 18.5 6   7.9000 5.177 *\n",
       "        17) Walks > 18.5 19   1.8350 4.643 *\n",
       "       9) Years > 3.5 13   1.5460 5.378 *\n",
       "     5) Runs > 74.5 9   3.0720 5.945 *\n",
       "   3) Years > 4.5 85  33.6200 6.366  \n",
       "     6) Hits < 106.5 41  11.3100 5.991  \n",
       "      12) Years < 5.5 5   1.8600 5.468 *\n",
       "      13) Years > 5.5 36   7.8960 6.063  \n",
       "        26) PutOuts < 451 31   5.5690 5.984 *\n",
       "        27) PutOuts > 451 5   0.9142 6.557 *\n",
       "     7) Hits > 106.5 44  11.1800 6.715  \n",
       "      14) RBI < 89.5 36   8.8750 6.623 *\n",
       "      15) RBI > 89.5 8   0.6402 7.128 *"
      ]
     },
     "metadata": {},
     "output_type": "display_data"
    }
   ],
   "source": [
    "# Print out the tree details\n",
    "md_regtree"
   ]
  },
  {
   "cell_type": "code",
   "execution_count": 53,
   "metadata": {},
   "outputs": [
    {
     "name": "stdout",
     "output_type": "stream",
     "text": [
      "[1] \"Root: 102.9572\"\n",
      "[1] \"1st left branch: 25.6056\"\n",
      "[1] \"1st right branch: 33.6235\"\n"
     ]
    }
   ],
   "source": [
    "# RSS at the root (or 1st node)\n",
    "node_1 <- train_ht\n",
    "rss_node_1 <- sum((node_1$Salary - mean(node_1$Salary)) ^ 2)\n",
    "\n",
    "# RSS at the first left branch (or 2nd node)\n",
    "node_2 <- node_1[node_1$Years < 4.5, ]\n",
    "rss_node_2 <- sum((node_2$Salary - mean(node_2$Salary)) ^ 2)\n",
    "\n",
    "# RSS at the first right branch (or 3rd node)\n",
    "node_3 <- node_1[node_1$Years > 4.5, ]\n",
    "rss_node_3 <- sum((node_3$Salary - mean(node_3$Salary)) ^ 2)\n",
    "\n",
    "# Compare RSS\n",
    "print(paste(\"Root:\", round(rss_node_1, 4)))  # Max RSS, root (no split)\n",
    "print(paste(\"1st left branch:\", round(rss_node_2, 4)))  # First split, left branch\n",
    "print(paste(\"1st right branch:\", round(rss_node_3, 4)))  # Second split, right branch"
   ]
  },
  {
   "cell_type": "markdown",
   "metadata": {},
   "source": [
    "**Q4:** Prune the decision tree using cost-complexity pruning. Plot and interpret the pruned tree."
   ]
  },
  {
   "cell_type": "code",
   "execution_count": 54,
   "metadata": {},
   "outputs": [
    {
     "data": {
      "text/plain": [
       "$size\n",
       "[1] 9 8 7 6 5 4 3 2 1\n",
       "\n",
       "$dev\n",
       "[1]  58.56722  55.86285  54.95801  54.34745  53.50915  54.83373  60.32098\n",
       "[8]  74.28324 108.79830\n",
       "\n",
       "$k\n",
       "[1]      -Inf  1.304147  1.412834  1.558635  1.666875  3.146710  6.800576\n",
       "[8] 11.126931 43.728005\n",
       "\n",
       "$method\n",
       "[1] \"deviance\"\n",
       "\n",
       "attr(,\"class\")\n",
       "[1] \"prune\"         \"tree.sequence\""
      ]
     },
     "metadata": {},
     "output_type": "display_data"
    }
   ],
   "source": [
    "# Prune the Regression Tree\n",
    "set.seed(1)\n",
    "cv_regtree <- cv.tree(md_regtree)\n",
    "cv_regtree"
   ]
  },
  {
   "cell_type": "code",
   "execution_count": 55,
   "metadata": {},
   "outputs": [
    {
     "name": "stdout",
     "output_type": "stream",
     "text": [
      "[1] \"Best tree size = 5\"\n",
      "[1] \"Best RSS = 53.5091541192236\"\n",
      "[1] \"Best alpha = 1.66687474259829\"\n"
     ]
    }
   ],
   "source": [
    "# Best tree size\n",
    "min_idx <- which.min(cv_regtree$dev)\n",
    "tree_size <- cv_regtree$size[min_idx]\n",
    "tree_dev <- cv_regtree$dev[min_idx]\n",
    "tree_k <- cv_regtree$k[min_idx]\n",
    "\n",
    "print(paste0('Best tree size = ', tree_size))\n",
    "print(paste0('Best RSS = ', tree_dev))\n",
    "print(paste0('Best alpha = ', tree_k))"
   ]
  },
  {
   "cell_type": "code",
   "execution_count": 56,
   "metadata": {},
   "outputs": [
    {
     "data": {
      "image/png": "[encoded data removed]",
      "text/plain": [
       "Plot with title \"Best alpha = 1.667\""
      ]
     },
     "metadata": {},
     "output_type": "display_data"
    }
   ],
   "source": [
    "# Show the Decision Tree\n",
    "options(repr.plot.width=8, repr.plot.height=10)\n",
    "par(mfrow=c(2, 1))\n",
    "\n",
    "# Tree size, number of nodes\n",
    "plot(cv_regtree$size, cv_regtree$dev, type='b', cex=0.7,\n",
    "     xlab='Tree size', ylab='RSS', main=paste0('Best tree size = ', tree_size)\n",
    "    )\n",
    "abline(v=tree_size, col='red')  # Best tree size\n",
    "\n",
    "# Cost-complexity param, alpha\n",
    "plot(cv_regtree$k, cv_regtree$dev, type='b', cex=0.7,\n",
    "     xlab='Cost-complexity parameter', ylab='RSS',\n",
    "     main=paste0('Best alpha = ', round(tree_k, 3))\n",
    "    )\n",
    "abline(v=tree_k, col='red')  # Best tree size"
   ]
  },
  {
   "cell_type": "code",
   "execution_count": 57,
   "metadata": {},
   "outputs": [
    {
     "data": {
      "image/png": "[encoded data removed]",
      "text/plain": [
       "plot without title"
      ]
     },
     "metadata": {},
     "output_type": "display_data"
    }
   ],
   "source": [
    "# Prune the tree\n",
    "prune_regtree <- prune.tree(md_regtree, best=5)\n",
    "\n",
    "# Show the tree\n",
    "options(repr.plot.width=15, repr.plot.height=6)\n",
    "plot(prune_regtree, type='uniform')\n",
    "text(prune_regtree, pretty=0)"
   ]
  },
  {
   "cell_type": "markdown",
   "metadata": {},
   "source": [
    "**Q5:** Compare the performance of full Regression Tree and pruned Regression Tree on test data."
   ]
  },
  {
   "cell_type": "code",
   "execution_count": 58,
   "metadata": {},
   "outputs": [
    {
     "data": {
      "text/html": [
       "0.522704751746129"
      ],
      "text/latex": [
       "0.522704751746129"
      ],
      "text/markdown": [
       "0.522704751746129"
      ],
      "text/plain": [
       "[1] 0.5227048"
      ]
     },
     "metadata": {},
     "output_type": "display_data"
    },
    {
     "data": {
      "text/html": [
       "0.498611774700468"
      ],
      "text/latex": [
       "0.498611774700468"
      ],
      "text/markdown": [
       "0.498611774700468"
      ],
      "text/plain": [
       "[1] 0.4986118"
      ]
     },
     "metadata": {},
     "output_type": "display_data"
    }
   ],
   "source": [
    "# RSS full Regression Tree\n",
    "pred_full_regtree <- predict(md_regtree, newdata=test_ht)\n",
    "mse_full_regtree <- mean((pred_full_regtree - mean(test_ht$Salary)) ^ 2)\n",
    "mse_full_regtree\n",
    "\n",
    "# RSS pruned Regression Tree\n",
    "pred_pruned_regtree <- predict(prune_regtree, newdata=test_ht)\n",
    "mse_pruned_regtree <- mean((pred_pruned_regtree - mean(test_ht$Salary)) ^ 2)\n",
    "mse_pruned_regtree"
   ]
  },
  {
   "cell_type": "markdown",
   "metadata": {},
   "source": [
    "**Q6:** Plot the tree pruning process."
   ]
  },
  {
   "cell_type": "code",
   "execution_count": 59,
   "metadata": {},
   "outputs": [
    {
     "data": {
      "image/png": "[encoded data removed]",
      "text/plain": [
       "Plot with title \"Tree size = 9, alpha = -Inf\""
      ]
     },
     "metadata": {},
     "output_type": "display_data"
    },
    {
     "data": {
      "image/png": "[encoded data removed]",
      "text/plain": [
       "Plot with title \"Tree size = 8, alpha = 1.304\""
      ]
     },
     "metadata": {},
     "output_type": "display_data"
    },
    {
     "data": {
      "image/png": "[encoded data removed]",
      "text/plain": [
       "Plot with title \"Tree size = 7, alpha = 1.413\""
      ]
     },
     "metadata": {},
     "output_type": "display_data"
    },
    {
     "data": {
      "image/png": "[encoded data removed]",
      "text/plain": [
       "Plot with title \"Tree size = 6, alpha = 1.559\""
      ]
     },
     "metadata": {},
     "output_type": "display_data"
    },
    {
     "data": {
      "image/png": "[encoded data removed]",
      "text/plain": [
       "Plot with title \"Tree size = 5, alpha = 1.667\""
      ]
     },
     "metadata": {},
     "output_type": "display_data"
    },
    {
     "data": {
      "image/png": "[encoded data removed]",
      "text/plain": [
       "Plot with title \"Tree size = 4, alpha = 3.147\""
      ]
     },
     "metadata": {},
     "output_type": "display_data"
    },
    {
     "data": {
      "image/png": "[encoded data removed]",
      "text/plain": [
       "Plot with title \"Tree size = 3, alpha = 6.801\""
      ]
     },
     "metadata": {},
     "output_type": "display_data"
    },
    {
     "data": {
      "image/png": "[encoded data removed]",
      "text/plain": [
       "Plot with title \"Tree size = 2, alpha = 11.127\""
      ]
     },
     "metadata": {},
     "output_type": "display_data"
    }
   ],
   "source": [
    "for (i in 1:(length(cv_regtree$size)-1)) {\n",
    "    \n",
    "    # Prune the tree\n",
    "    tree_size = cv_regtree$size[i]\n",
    "    alpha = cv_regtree$k[i]\n",
    "    prune_regtree_temp <- prune.tree(md_regtree, best=tree_size)\n",
    "\n",
    "    # Show the tree\n",
    "    plot(prune_regtree_temp, type='uniform')\n",
    "    text(prune_regtree_temp, pretty=0)\n",
    "    title(main=paste0('Tree size = ', tree_size, ', alpha = ', round(alpha, 3)))\n",
    "    }"
   ]
  },
  {
   "cell_type": "markdown",
   "metadata": {},
   "source": [
    "### 4. Classification Tree"
   ]
  },
  {
   "cell_type": "markdown",
   "metadata": {},
   "source": [
    "#### 4.1. The Iris dataset\n",
    "![ieseg logo](./img/iris-machinelearning.png)\n",
    "\n",
    "Source: https://www.datacamp.com/community/tutorials/machine-learning-in-r\n",
    "\n",
    "**Example 4:** The Iris dataset\n",
    "\n",
    "Q1: What is the distribution of the response Species?\n",
    "\n",
    "Q2: Build a classification decision tree on the Iris data. Plot and interpret the tree.\n",
    "\n",
    "Q3: Calculate the Classification error rate, Cross-entropy, Gini index and Deviance before and after spliting at the tree branch 12."
   ]
  },
  {
   "cell_type": "code",
   "execution_count": 60,
   "metadata": {},
   "outputs": [
    {
     "name": "stdout",
     "output_type": "stream",
     "text": [
      "'data.frame':\t150 obs. of  5 variables:\n",
      " $ Sepal.Length: num  5.1 4.9 4.7 4.6 5 5.4 4.6 5 4.4 4.9 ...\n",
      " $ Sepal.Width : num  3.5 3 3.2 3.1 3.6 3.9 3.4 3.4 2.9 3.1 ...\n",
      " $ Petal.Length: num  1.4 1.4 1.3 1.5 1.4 1.7 1.4 1.5 1.4 1.5 ...\n",
      " $ Petal.Width : num  0.2 0.2 0.2 0.2 0.2 0.4 0.3 0.2 0.2 0.1 ...\n",
      " $ Species     : Factor w/ 3 levels \"setosa\",\"versicolor\",..: 1 1 1 1 1 1 1 1 1 1 ...\n"
     ]
    }
   ],
   "source": [
    "# The Iris dataset\n",
    "# Sepal.Length : sepal length in cm\n",
    "# Sepal.Width  : sepal width in cm\n",
    "# Petal.Length : petal length in cm\n",
    "# Petal.Width  : petal length in cm\n",
    "# Species      : type of iris plant, i.e. Setosa, Versicolour, Virginica\n",
    "ir <- datasets::iris\n",
    "str(ir)"
   ]
  },
  {
   "cell_type": "markdown",
   "metadata": {},
   "source": [
    "**Q1:** What is the distribution of the response Species?"
   ]
  },
  {
   "cell_type": "code",
   "execution_count": 61,
   "metadata": {},
   "outputs": [
    {
     "data": {
      "text/plain": [
       "\n",
       "    setosa versicolor  virginica \n",
       " 0.3333333  0.3333333  0.3333333 "
      ]
     },
     "metadata": {},
     "output_type": "display_data"
    }
   ],
   "source": [
    "# Check the response\n",
    "table(ir$Species) / nrow(ir)"
   ]
  },
  {
   "cell_type": "markdown",
   "metadata": {},
   "source": [
    "**Q2:** Build a classification decision tree on the Iris data. Plot and interpret the tree."
   ]
  },
  {
   "cell_type": "code",
   "execution_count": 62,
   "metadata": {},
   "outputs": [
    {
     "data": {
      "text/plain": [
       "\n",
       "Classification tree:\n",
       "tree(formula = Species ~ ., data = ir)\n",
       "Variables actually used in tree construction:\n",
       "[1] \"Petal.Length\" \"Petal.Width\"  \"Sepal.Length\"\n",
       "Number of terminal nodes:  6 \n",
       "Residual mean deviance:  0.1253 = 18.05 / 144 \n",
       "Misclassification error rate: 0.02667 = 4 / 150 "
      ]
     },
     "metadata": {},
     "output_type": "display_data"
    }
   ],
   "source": [
    "# Fit the classification tree\n",
    "md_classtree <- tree(Species ~ ., data=ir)\n",
    "summary(md_classtree)"
   ]
  },
  {
   "cell_type": "code",
   "execution_count": 63,
   "metadata": {},
   "outputs": [
    {
     "data": {
      "image/png": "[encoded data removed]",
      "text/plain": [
       "plot without title"
      ]
     },
     "metadata": {},
     "output_type": "display_data"
    }
   ],
   "source": [
    "# Plot the classification tree\n",
    "options(repr.plot.width=15, repr.plot.height=6)\n",
    "plot(md_classtree, type='uniform')\n",
    "text(md_classtree, pretty=0)"
   ]
  },
  {
   "cell_type": "code",
   "execution_count": 64,
   "metadata": {},
   "outputs": [
    {
     "data": {
      "text/plain": [
       "node), split, n, deviance, yval, (yprob)\n",
       "      * denotes terminal node\n",
       "\n",
       " 1) root 150 329.600 setosa ( 0.33333 0.33333 0.33333 )  \n",
       "   2) Petal.Length < 2.45 50   0.000 setosa ( 1.00000 0.00000 0.00000 ) *\n",
       "   3) Petal.Length > 2.45 100 138.600 versicolor ( 0.00000 0.50000 0.50000 )  \n",
       "     6) Petal.Width < 1.75 54  33.320 versicolor ( 0.00000 0.90741 0.09259 )  \n",
       "      12) Petal.Length < 4.95 48   9.721 versicolor ( 0.00000 0.97917 0.02083 )  \n",
       "        24) Sepal.Length < 5.15 5   5.004 versicolor ( 0.00000 0.80000 0.20000 ) *\n",
       "        25) Sepal.Length > 5.15 43   0.000 versicolor ( 0.00000 1.00000 0.00000 ) *\n",
       "      13) Petal.Length > 4.95 6   7.638 virginica ( 0.00000 0.33333 0.66667 ) *\n",
       "     7) Petal.Width > 1.75 46   9.635 virginica ( 0.00000 0.02174 0.97826 )  \n",
       "      14) Petal.Length < 4.95 6   5.407 virginica ( 0.00000 0.16667 0.83333 ) *\n",
       "      15) Petal.Length > 4.95 40   0.000 virginica ( 0.00000 0.00000 1.00000 ) *"
      ]
     },
     "metadata": {},
     "output_type": "display_data"
    }
   ],
   "source": [
    "# Print out the tree details\n",
    "md_classtree"
   ]
  },
  {
   "cell_type": "markdown",
   "metadata": {},
   "source": [
    "**Q3:** Calculate the Deviance, Classification error rate, Cross-entropy abd Gini-index before and after spliting at the tree branch 12."
   ]
  },
  {
   "cell_type": "code",
   "execution_count": 65,
   "metadata": {},
   "outputs": [
    {
     "name": "stdout",
     "output_type": "stream",
     "text": [
      "[1] 48\n",
      "\n",
      "    setosa versicolor  virginica \n",
      "         0         47          1 \n"
     ]
    }
   ],
   "source": [
    "# Get data for node 12\n",
    "node_12 <- ir[(ir$Petal.Length > 2.45) & (ir$Petal.Width < 1.75) & (ir$Petal.Length < 4.95), ]\n",
    "print(nrow(node_12))\n",
    "print(table(node_12$Species))"
   ]
  },
  {
   "cell_type": "code",
   "execution_count": 66,
   "metadata": {},
   "outputs": [
    {
     "name": "stdout",
     "output_type": "stream",
     "text": [
      "[1] 5\n",
      "\n",
      "    setosa versicolor  virginica \n",
      "         0          4          1 \n"
     ]
    }
   ],
   "source": [
    "# Get data for node 24\n",
    "node_24 <- node_12[node_12$Sepal.Length < 5.15, ]\n",
    "print(nrow(node_24))\n",
    "print(table(node_24$Species))"
   ]
  },
  {
   "cell_type": "code",
   "execution_count": 67,
   "metadata": {},
   "outputs": [
    {
     "name": "stdout",
     "output_type": "stream",
     "text": [
      "[1] 43\n",
      "\n",
      "    setosa versicolor  virginica \n",
      "         0         43          0 \n"
     ]
    }
   ],
   "source": [
    "# Get data for node 25\n",
    "node_25 <- node_12[node_12$Sepal.Length > 5.15, ]\n",
    "print(nrow(node_25))\n",
    "print(table(node_25$Species))"
   ]
  },
  {
   "cell_type": "markdown",
   "metadata": {},
   "source": [
    "Compare deviance before and after splitting at tree brand 12.\n",
    "\n",
    "![deviance_formula](./img/deviance.png)"
   ]
  },
  {
   "cell_type": "code",
   "execution_count": 68,
   "metadata": {},
   "outputs": [
    {
     "name": "stdout",
     "output_type": "stream",
     "text": [
      "[1] 329.5867\n"
     ]
    }
   ],
   "source": [
    "# Deviance of the classification tree\n",
    "# Ref: http://www2.stat.duke.edu/~rcs46/lectures_2017/08-trees/08-tree-classification.pdf\n",
    "deviance_tree <- -2 * (50 * log(0.33333) + 50 * log(0.33333) + 50 * log(0.33333))\n",
    "print(deviance_tree)"
   ]
  },
  {
   "cell_type": "code",
   "execution_count": 69,
   "metadata": {},
   "outputs": [
    {
     "name": "stdout",
     "output_type": "stream",
     "text": [
      "[1] \"Deviance at node 12: 9.72142251255943\"\n",
      "[1] \"Combined deviance of node 24 and 25: 0.521252524518946\"\n"
     ]
    }
   ],
   "source": [
    "# Deviance before splitting\n",
    "# dev12 <- -2 * (0 * log(0.00000) + 47 * log(0.97917) + 1 * log(0.02083))\n",
    "dev12 <- -2 * (47 * log(0.97917) + 1 * log(0.02083))\n",
    "\n",
    "# Deviance before splitting\n",
    "dev24 <- -2 * (4 * log(0.80000) + 1 * log(0.20000))\n",
    "dev25 <- -2 * (43 * log(1.00000))\n",
    "combined_dev <- dev24 * 5/48 + dev25 * 43/48\n",
    "\n",
    "print(paste0('Deviance at node 12: ', dev12))\n",
    "print(paste0('Combined deviance of node 24 and 25: ', combined_dev))"
   ]
  },
  {
   "cell_type": "markdown",
   "metadata": {},
   "source": [
    "Compare classification error rate before and after splitting at tree brand 12.\n",
    "\n",
    "![classification_error_rate](./img/classification_error_rate.png)"
   ]
  },
  {
   "cell_type": "code",
   "execution_count": 70,
   "metadata": {},
   "outputs": [
    {
     "name": "stdout",
     "output_type": "stream",
     "text": [
      "[1] \"Error rate at node 12: 0.02083\"\n",
      "[1] \"Combined error rate of node 24 and 25: 0.0208333333333333\"\n"
     ]
    }
   ],
   "source": [
    "# Error rate before splitting\n",
    "e12 <- 1 - 0.97917  # Node 12\n",
    "\n",
    "# Error rate after splitting\n",
    "e24 <- 1 - 0.80000  # Node 24\n",
    "e25 <- 1 - 1.00000  # Node 25\n",
    "combined_e <- e24 * 5/48 + e25 * 43/48\n",
    "\n",
    "print(paste0('Error rate at node 12: ', e12))\n",
    "print(paste0('Combined error rate of node 24 and 25: ', combined_e))"
   ]
  },
  {
   "cell_type": "markdown",
   "metadata": {},
   "source": [
    "Compare cross-entropy before and after splitting at tree brand 12.\n",
    "\n",
    "![cross-entropy](./img/cross-entropy.png)"
   ]
  },
  {
   "cell_type": "code",
   "execution_count": 71,
   "metadata": {},
   "outputs": [
    {
     "name": "stdout",
     "output_type": "stream",
     "text": [
      "[1] \"Cross-entropy at node 12: 0.101251983469098\"\n",
      "[1] \"Combined cross-entropy of node 24 and 25: 0.0521252524518946\"\n"
     ]
    }
   ],
   "source": [
    "# Cross-entropy before splitting\n",
    "ce12 <- - 0.97917 * log(0.97917) - 0.02083 * log(0.02083)  # Node 12\n",
    "\n",
    "# Cross-entropy after splitting\n",
    "ce24 <- - 0.80000 * log(0.80000) - 0.20000 * log(0.20000)  # Node 24\n",
    "ce25 <- - 1.00000 * log(1.00000)  # Node 25\n",
    "combined_ce <- ce24 * 5/48 + ce25 * 43/48\n",
    "\n",
    "print(paste0('Cross-entropy at node 12: ', ce12))\n",
    "print(paste0('Combined cross-entropy of node 24 and 25: ', combined_ce))"
   ]
  },
  {
   "cell_type": "markdown",
   "metadata": {},
   "source": [
    "Compare gini-index before and after splitting at tree brand 12.\n",
    "\n",
    "![gini-index](./img/gini-index.png)"
   ]
  },
  {
   "cell_type": "code",
   "execution_count": 72,
   "metadata": {},
   "outputs": [
    {
     "name": "stdout",
     "output_type": "stream",
     "text": [
      "[1] \"Gini-index at node 12: 0.101251983469098\"\n",
      "[1] \"Combined gini-index of node 24 and 25: 0.0521252524518946\"\n"
     ]
    }
   ],
   "source": [
    "# Gini-index before splitting\n",
    "gini12 <- 0.00000 * (1 - 0.00000) + 0.97917 * (1 - 0.97917) + 0.02083 * (1 - 0.02083)  # Node 12\n",
    "\n",
    "# Gini-index after splitting\n",
    "gini24 <- 0.00000 * (1 - 0.00000) + 0.80000 * (1 - 0.80000) + 0.20000 * (1 - 0.20000)  # Node 24\n",
    "gini25 <- 0.00000 * (1 - 0.00000) + 1.00000 * (1 - 1.00000) + 0.00000 * (1 - 0.00000)  # Node 25\n",
    "combined_gini <- gini24 * 5/48 + gini25 * 43/48\n",
    "\n",
    "print(paste0('Gini-index at node 12: ', ce12))\n",
    "print(paste0('Combined gini-index of node 24 and 25: ', combined_ce))"
   ]
  },
  {
   "cell_type": "markdown",
   "metadata": {},
   "source": [
    "#### 4.2. Node impurity function for classification tree"
   ]
  },
  {
   "cell_type": "code",
   "execution_count": 73,
   "metadata": {},
   "outputs": [
    {
     "data": {
      "image/png": "[encoded data removed]",
      "text/plain": [
       "plot without title"
      ]
     },
     "metadata": {},
     "output_type": "display_data"
    }
   ],
   "source": [
    "# Node impurity function for 2-class classification\n",
    "error <- function(pmk) { pmin(1 - pmk, pmk) }  # Misclassification error\n",
    "gini <- function(pmk) { pmk * (1 - pmk) + (1 - pmk) * pmk }  # Gini index\n",
    "deviance <- function(pmk) { -pmk * log(pmk) - (1 - pmk) * log(1 - pmk) }  # Cross-entropy or deviance\n",
    "\n",
    "# Create p value in [0; 1]\n",
    "p <- seq(0, 1, 0.001)\n",
    "\n",
    "# Scale deviance to range [0; 0.5]\n",
    "custom_scale <- function(v, a, b) { (b - a) * (v - min(v, na.rm=T)) / (max(v, na.rm=T) - min(v, na.rm=T)) + a }\n",
    "\n",
    "# Plot 3 inpurity function for 2-class classification\n",
    "options(repr.plot.width=10, repr.plot.height=6.5)\n",
    "plot(p, error(p), col='green', type='l', ylab='')\n",
    "lines(p, gini(p), col='blue', type='l')\n",
    "lines(p, custom_scale(deviance(p), 0, 0.5), col='orange', type='l')"
   ]
  },
  {
   "cell_type": "markdown",
   "metadata": {},
   "source": [
    "## Lab: Decision Tree, Bagging and Boosting\n",
    "\n",
    "1. Cars Sales Data - Classification Tree\n",
    "2. Cars Sales Data - Regression Tree\n",
    "3. Boston Housing Data - Bagging and Random Forests\n",
    "4. Boston Housing Data - Boosting Regression Tree\n",
    "5. Student's Performance - Benchmarking - Classification"
   ]
  },
  {
   "cell_type": "markdown",
   "metadata": {},
   "source": [
    "### Lab 1: Cars Sales Data - Classification Tree\n",
    "\n",
    "- Q1: Build and evaluate the Decision Tree model with train (first 200 obs) / test (last 200 obs) set.  \n",
    "- Q2: Prune the Decision Tree model at Q1. Does it perform better?"
   ]
  },
  {
   "cell_type": "markdown",
   "metadata": {},
   "source": [
    "#### Import, explore and prepare data"
   ]
  },
  {
   "cell_type": "code",
   "execution_count": 74,
   "metadata": {},
   "outputs": [],
   "source": [
    "# Load require packages\n",
    "library(tree)  # Regression and classification tree\n",
    "library(ISLR)  # Dataset"
   ]
  },
  {
   "cell_type": "code",
   "execution_count": 75,
   "metadata": {},
   "outputs": [
    {
     "name": "stdout",
     "output_type": "stream",
     "text": [
      "'data.frame':\t400 obs. of  11 variables:\n",
      " $ Sales      : num  9.5 11.22 10.06 7.4 4.15 ...\n",
      " $ CompPrice  : num  138 111 113 117 141 124 115 136 132 132 ...\n",
      " $ Income     : num  73 48 35 100 64 113 105 81 110 113 ...\n",
      " $ Advertising: num  11 16 10 4 3 13 0 15 0 0 ...\n",
      " $ Population : num  276 260 269 466 340 501 45 425 108 131 ...\n",
      " $ Price      : num  120 83 80 97 128 72 108 120 124 124 ...\n",
      " $ ShelveLoc  : Factor w/ 3 levels \"Bad\",\"Good\",\"Medium\": 1 2 3 3 1 1 3 2 3 3 ...\n",
      " $ Age        : num  42 65 59 55 38 78 71 67 76 76 ...\n",
      " $ Education  : num  17 10 12 14 13 16 15 10 10 17 ...\n",
      " $ Urban      : Factor w/ 2 levels \"No\",\"Yes\": 2 2 2 2 2 1 2 2 1 1 ...\n",
      " $ US         : Factor w/ 2 levels \"No\",\"Yes\": 2 2 2 2 1 2 1 2 1 2 ...\n"
     ]
    }
   ],
   "source": [
    "# Load and explore the dataset\n",
    "# Sales: Unit sales (in thousands) at each location\n",
    "# CompPrice: Price charged by competitor at each location\n",
    "# Income: Community income level (in thousands of dollars)\n",
    "# Advertising: Local advertising budget for company at each location (in thousands of dollars)\n",
    "# Population: Population size in region (in thousands)\n",
    "# Price: Price company charges for car seats at each site\n",
    "# ShelveLoc: A factor with levels Bad, Good and Medium indicating the quality of the shelving location for the car seats at each site\n",
    "# Age: Average age of the local population\n",
    "# Education: Education level at each location\n",
    "# Urban: A factor with levels No and Yes to indicate whether the store is in an urban or rural location\n",
    "# US: A factor with levels No and Yes to indicate whether the store is in the US or not\n",
    "cs <- ISLR::Carseats\n",
    "str(cs)"
   ]
  },
  {
   "cell_type": "code",
   "execution_count": 76,
   "metadata": {},
   "outputs": [
    {
     "data": {
      "text/html": [
       "<dl class=dl-horizontal>\n",
       "\t<dt>Sales</dt>\n",
       "\t\t<dd>0</dd>\n",
       "\t<dt>CompPrice</dt>\n",
       "\t\t<dd>0</dd>\n",
       "\t<dt>Income</dt>\n",
       "\t\t<dd>0</dd>\n",
       "\t<dt>Advertising</dt>\n",
       "\t\t<dd>0</dd>\n",
       "\t<dt>Population</dt>\n",
       "\t\t<dd>0</dd>\n",
       "\t<dt>Price</dt>\n",
       "\t\t<dd>0</dd>\n",
       "\t<dt>ShelveLoc</dt>\n",
       "\t\t<dd>0</dd>\n",
       "\t<dt>Age</dt>\n",
       "\t\t<dd>0</dd>\n",
       "\t<dt>Education</dt>\n",
       "\t\t<dd>0</dd>\n",
       "\t<dt>Urban</dt>\n",
       "\t\t<dd>0</dd>\n",
       "\t<dt>US</dt>\n",
       "\t\t<dd>0</dd>\n",
       "</dl>\n"
      ],
      "text/latex": [
       "\\begin{description*}\n",
       "\\item[Sales] 0\n",
       "\\item[CompPrice] 0\n",
       "\\item[Income] 0\n",
       "\\item[Advertising] 0\n",
       "\\item[Population] 0\n",
       "\\item[Price] 0\n",
       "\\item[ShelveLoc] 0\n",
       "\\item[Age] 0\n",
       "\\item[Education] 0\n",
       "\\item[Urban] 0\n",
       "\\item[US] 0\n",
       "\\end{description*}\n"
      ],
      "text/markdown": [
       "Sales\n",
       ":   0CompPrice\n",
       ":   0Income\n",
       ":   0Advertising\n",
       ":   0Population\n",
       ":   0Price\n",
       ":   0ShelveLoc\n",
       ":   0Age\n",
       ":   0Education\n",
       ":   0Urban\n",
       ":   0US\n",
       ":   0\n",
       "\n"
      ],
      "text/plain": [
       "      Sales   CompPrice      Income Advertising  Population       Price \n",
       "          0           0           0           0           0           0 \n",
       "  ShelveLoc         Age   Education       Urban          US \n",
       "          0           0           0           0           0 "
      ]
     },
     "metadata": {},
     "output_type": "display_data"
    }
   ],
   "source": [
    "# Check NAs\n",
    "apply(is.na(cs), 2, sum)"
   ]
  },
  {
   "cell_type": "code",
   "execution_count": 77,
   "metadata": {},
   "outputs": [
    {
     "data": {
      "text/plain": [
       "   Min. 1st Qu.  Median    Mean 3rd Qu.    Max. \n",
       "  0.000   5.390   7.490   7.496   9.320  16.270 "
      ]
     },
     "metadata": {},
     "output_type": "display_data"
    },
    {
     "data": {
      "image/png": "[encoded data removed]",
      "text/plain": [
       "Plot with title \"Sales Histogram\""
      ]
     },
     "metadata": {},
     "output_type": "display_data"
    }
   ],
   "source": [
    "# Check the target variable\n",
    "summary(cs$Sales)\n",
    "\n",
    "options(repr.plot.width=6, repr.plot.height=6.5)\n",
    "hist(cs$Sales,\n",
    "     main='Sales Histogram', xlab='Sales')"
   ]
  },
  {
   "cell_type": "code",
   "execution_count": 78,
   "metadata": {},
   "outputs": [],
   "source": [
    "# Create a new target variable for classification problem\n",
    "cs$High <- as.factor(ifelse(cs$Sales <= 8, 'No', 'Yes'))\n",
    "cs$Sales <- NULL  # Drop Sales"
   ]
  },
  {
   "cell_type": "code",
   "execution_count": 79,
   "metadata": {},
   "outputs": [
    {
     "data": {
      "text/plain": [
       "\n",
       "  No  Yes \n",
       "0.59 0.41 "
      ]
     },
     "metadata": {},
     "output_type": "display_data"
    },
    {
     "data": {
      "image/png": "[encoded data removed]",
      "text/plain": [
       "plot without title"
      ]
     },
     "metadata": {},
     "output_type": "display_data"
    }
   ],
   "source": [
    "# Check the new target variable\n",
    "table(cs$High) / nrow(cs)  # Almost balnaced\n",
    "\n",
    "options(repr.plot.width=4, repr.plot.height=4)\n",
    "barplot(table(cs$High))"
   ]
  },
  {
   "cell_type": "markdown",
   "metadata": {},
   "source": [
    "#### Quick test the Decision Tree model using the whole data"
   ]
  },
  {
   "cell_type": "code",
   "execution_count": 80,
   "metadata": {},
   "outputs": [
    {
     "data": {
      "text/plain": [
       "\n",
       "Classification tree:\n",
       "tree(formula = High ~ ., data = cs)\n",
       "Variables actually used in tree construction:\n",
       "[1] \"ShelveLoc\"   \"Price\"       \"Income\"      \"CompPrice\"   \"Population\" \n",
       "[6] \"Advertising\" \"Age\"         \"US\"         \n",
       "Number of terminal nodes:  27 \n",
       "Residual mean deviance:  0.4575 = 170.7 / 373 \n",
       "Misclassification error rate: 0.09 = 36 / 400 "
      ]
     },
     "metadata": {},
     "output_type": "display_data"
    }
   ],
   "source": [
    "# Fit the Decision Tree model\n",
    "md_tree <- tree(High ~ ., data=cs)\n",
    "summary(md_tree)"
   ]
  },
  {
   "cell_type": "code",
   "execution_count": 81,
   "metadata": {},
   "outputs": [
    {
     "data": {
      "image/png": "[encoded data removed]",
      "text/plain": [
       "plot without title"
      ]
     },
     "metadata": {},
     "output_type": "display_data"
    }
   ],
   "source": [
    "# Show the Decision Tree\n",
    "options(repr.plot.width=15, repr.plot.height=15)\n",
    "plot(md_tree)\n",
    "text(md_tree, pretty=0)"
   ]
  },
  {
   "cell_type": "code",
   "execution_count": 82,
   "metadata": {},
   "outputs": [
    {
     "data": {
      "text/plain": [
       "node), split, n, deviance, yval, (yprob)\n",
       "      * denotes terminal node\n",
       "\n",
       "  1) root 400 541.500 No ( 0.59000 0.41000 )  \n",
       "    2) ShelveLoc: Bad,Medium 315 390.600 No ( 0.68889 0.31111 )  \n",
       "      4) Price < 92.5 46  56.530 Yes ( 0.30435 0.69565 )  \n",
       "        8) Income < 57 10  12.220 No ( 0.70000 0.30000 )  \n",
       "         16) CompPrice < 110.5 5   0.000 No ( 1.00000 0.00000 ) *\n",
       "         17) CompPrice > 110.5 5   6.730 Yes ( 0.40000 0.60000 ) *\n",
       "        9) Income > 57 36  35.470 Yes ( 0.19444 0.80556 )  \n",
       "         18) Population < 207.5 16  21.170 Yes ( 0.37500 0.62500 ) *\n",
       "         19) Population > 207.5 20   7.941 Yes ( 0.05000 0.95000 ) *\n",
       "      5) Price > 92.5 269 299.800 No ( 0.75465 0.24535 )  \n",
       "       10) Advertising < 13.5 224 213.200 No ( 0.81696 0.18304 )  \n",
       "         20) CompPrice < 124.5 96  44.890 No ( 0.93750 0.06250 )  \n",
       "           40) Price < 106.5 38  33.150 No ( 0.84211 0.15789 )  \n",
       "             80) Population < 177 12  16.300 No ( 0.58333 0.41667 )  \n",
       "              160) Income < 60.5 6   0.000 No ( 1.00000 0.00000 ) *\n",
       "              161) Income > 60.5 6   5.407 Yes ( 0.16667 0.83333 ) *\n",
       "             81) Population > 177 26   8.477 No ( 0.96154 0.03846 ) *\n",
       "           41) Price > 106.5 58   0.000 No ( 1.00000 0.00000 ) *\n",
       "         21) CompPrice > 124.5 128 150.200 No ( 0.72656 0.27344 )  \n",
       "           42) Price < 122.5 51  70.680 Yes ( 0.49020 0.50980 )  \n",
       "             84) ShelveLoc: Bad 11   6.702 No ( 0.90909 0.09091 ) *\n",
       "             85) ShelveLoc: Medium 40  52.930 Yes ( 0.37500 0.62500 )  \n",
       "              170) Price < 109.5 16   7.481 Yes ( 0.06250 0.93750 ) *\n",
       "              171) Price > 109.5 24  32.600 No ( 0.58333 0.41667 )  \n",
       "                342) Age < 49.5 13  16.050 Yes ( 0.30769 0.69231 ) *\n",
       "                343) Age > 49.5 11   6.702 No ( 0.90909 0.09091 ) *\n",
       "           43) Price > 122.5 77  55.540 No ( 0.88312 0.11688 )  \n",
       "             86) CompPrice < 147.5 58  17.400 No ( 0.96552 0.03448 ) *\n",
       "             87) CompPrice > 147.5 19  25.010 No ( 0.63158 0.36842 )  \n",
       "              174) Price < 147 12  16.300 Yes ( 0.41667 0.58333 )  \n",
       "                348) CompPrice < 152.5 7   5.742 Yes ( 0.14286 0.85714 ) *\n",
       "                349) CompPrice > 152.5 5   5.004 No ( 0.80000 0.20000 ) *\n",
       "              175) Price > 147 7   0.000 No ( 1.00000 0.00000 ) *\n",
       "       11) Advertising > 13.5 45  61.830 Yes ( 0.44444 0.55556 )  \n",
       "         22) Age < 54.5 25  25.020 Yes ( 0.20000 0.80000 )  \n",
       "           44) CompPrice < 130.5 14  18.250 Yes ( 0.35714 0.64286 )  \n",
       "             88) Income < 100 9  12.370 No ( 0.55556 0.44444 ) *\n",
       "             89) Income > 100 5   0.000 Yes ( 0.00000 1.00000 ) *\n",
       "           45) CompPrice > 130.5 11   0.000 Yes ( 0.00000 1.00000 ) *\n",
       "         23) Age > 54.5 20  22.490 No ( 0.75000 0.25000 )  \n",
       "           46) CompPrice < 122.5 10   0.000 No ( 1.00000 0.00000 ) *\n",
       "           47) CompPrice > 122.5 10  13.860 No ( 0.50000 0.50000 )  \n",
       "             94) Price < 125 5   0.000 Yes ( 0.00000 1.00000 ) *\n",
       "             95) Price > 125 5   0.000 No ( 1.00000 0.00000 ) *\n",
       "    3) ShelveLoc: Good 85  90.330 Yes ( 0.22353 0.77647 )  \n",
       "      6) Price < 135 68  49.260 Yes ( 0.11765 0.88235 )  \n",
       "       12) US: No 17  22.070 Yes ( 0.35294 0.64706 )  \n",
       "         24) Price < 109 8   0.000 Yes ( 0.00000 1.00000 ) *\n",
       "         25) Price > 109 9  11.460 No ( 0.66667 0.33333 ) *\n",
       "       13) US: Yes 51  16.880 Yes ( 0.03922 0.96078 ) *\n",
       "      7) Price > 135 17  22.070 No ( 0.64706 0.35294 )  \n",
       "       14) Income < 46 6   0.000 No ( 1.00000 0.00000 ) *\n",
       "       15) Income > 46 11  15.160 Yes ( 0.45455 0.54545 ) *"
      ]
     },
     "metadata": {},
     "output_type": "display_data"
    }
   ],
   "source": [
    "# The Decision Tree model in detailed\n",
    "# Ref: https://stats.stackexchange.com/questions/6581/what-is-deviance-specifically-in-cart-rpart\n",
    "md_tree"
   ]
  },
  {
   "cell_type": "markdown",
   "metadata": {},
   "source": [
    "**Q1:** Build and evaluate the Decision Tree model with train (first 200 obs) / test (last 200 obs) set."
   ]
  },
  {
   "cell_type": "code",
   "execution_count": 83,
   "metadata": {},
   "outputs": [],
   "source": [
    "# Separate train/test\n",
    "set.seed(2)\n",
    "train_idx <- sample(1:nrow(cs), 200)\n",
    "train <- cs[train_idx, ]\n",
    "test <- cs[-train_idx, ]"
   ]
  },
  {
   "cell_type": "code",
   "execution_count": 84,
   "metadata": {},
   "outputs": [
    {
     "data": {
      "text/plain": [
       "\n",
       "Classification tree:\n",
       "tree(formula = High ~ ., data = train)\n",
       "Variables actually used in tree construction:\n",
       "[1] \"Price\"       \"Population\"  \"ShelveLoc\"   \"Age\"         \"Education\"  \n",
       "[6] \"CompPrice\"   \"Advertising\" \"Income\"      \"US\"         \n",
       "Number of terminal nodes:  21 \n",
       "Residual mean deviance:  0.5543 = 99.22 / 179 \n",
       "Misclassification error rate: 0.115 = 23 / 200 "
      ]
     },
     "metadata": {},
     "output_type": "display_data"
    }
   ],
   "source": [
    "# Fit Decision Tree on train dataset\n",
    "md_tree <- tree(High ~ ., data=train)\n",
    "summary(md_tree)"
   ]
  },
  {
   "cell_type": "code",
   "execution_count": 85,
   "metadata": {},
   "outputs": [
    {
     "data": {
      "image/png": "[encoded data removed]",
      "text/plain": [
       "plot without title"
      ]
     },
     "metadata": {},
     "output_type": "display_data"
    }
   ],
   "source": [
    "# Show the Decision Tree\n",
    "options(repr.plot.width=15, repr.plot.height=15)\n",
    "plot(md_tree)\n",
    "text(md_tree, pretty=0)"
   ]
  },
  {
   "cell_type": "code",
   "execution_count": 86,
   "metadata": {},
   "outputs": [
    {
     "data": {
      "text/plain": [
       "     \n",
       "pred   No Yes\n",
       "  No  103  31\n",
       "  Yes  14  52"
      ]
     },
     "metadata": {},
     "output_type": "display_data"
    },
    {
     "name": "stdout",
     "output_type": "stream",
     "text": [
      "[1] \"Acuracy = 0.775\"\n"
     ]
    },
    {
     "name": "stderr",
     "output_type": "stream",
     "text": [
      "Setting levels: control = No, case = Yes\n",
      "Setting direction: controls < cases\n"
     ]
    },
    {
     "name": "stdout",
     "output_type": "stream",
     "text": [
      "[1] \"AUC = 0.803315827412213\"\n"
     ]
    }
   ],
   "source": [
    "# Make the prediction\n",
    "set.seed(2)  # Fixed 50:50 class\n",
    "pred <- predict(md_tree, newdata=test, type='class')\n",
    "pred_proba <- predict(md_tree, newdata=test, type='vector')[, 'Yes']\n",
    "\n",
    "# Evaluation: confusion matrix\n",
    "table(pred, test$High)\n",
    "\n",
    "# Accuracy\n",
    "print(paste0('Acuracy = ', mean(pred == test$High)))\n",
    "\n",
    "# AUC\n",
    "print(paste0('AUC = ', pROC::auc(pROC::roc(test$High, pred_proba))))"
   ]
  },
  {
   "cell_type": "markdown",
   "metadata": {},
   "source": [
    "**Q2:** Prune the Decision Tree model at Q1. Does it perform better?"
   ]
  },
  {
   "cell_type": "code",
   "execution_count": 87,
   "metadata": {},
   "outputs": [
    {
     "data": {
      "text/plain": [
       "$size\n",
       "[1] 21 19 14  9  8  5  3  2  1\n",
       "\n",
       "$dev\n",
       "[1] 74 76 81 81 75 77 78 85 81\n",
       "\n",
       "$k\n",
       "[1] -Inf  0.0  1.0  1.4  2.0  3.0  4.0  9.0 18.0\n",
       "\n",
       "$method\n",
       "[1] \"misclass\"\n",
       "\n",
       "attr(,\"class\")\n",
       "[1] \"prune\"         \"tree.sequence\""
      ]
     },
     "metadata": {},
     "output_type": "display_data"
    }
   ],
   "source": [
    "# Prune the previous tree using error rate\n",
    "set.seed(3)\n",
    "cv_cs <- tree::cv.tree(md_tree, FUN=prune.misclass, K=10)\n",
    "cv_cs"
   ]
  },
  {
   "cell_type": "code",
   "execution_count": 88,
   "metadata": {},
   "outputs": [
    {
     "name": "stdout",
     "output_type": "stream",
     "text": [
      "[1] \"Best tree size = 21\"\n",
      "[1] \"Best Error = 74\"\n",
      "[1] \"Best alpha = -Inf\"\n"
     ]
    }
   ],
   "source": [
    "# Best tree size\n",
    "min_idx <- which.min(cv_cs$dev)\n",
    "tree_size <- cv_cs$size[min_idx]\n",
    "tree_dev <- cv_cs$dev[min_idx]\n",
    "tree_k <- cv_cs$k[min_idx]\n",
    "\n",
    "print(paste0('Best tree size = ', tree_size))\n",
    "print(paste0('Best Error = ', tree_dev))\n",
    "print(paste0('Best alpha = ', tree_k))"
   ]
  },
  {
   "cell_type": "code",
   "execution_count": 89,
   "metadata": {},
   "outputs": [
    {
     "data": {
      "image/png": "[encoded data removed]",
      "text/plain": [
       "Plot with title \"Best alpha = -Inf\""
      ]
     },
     "metadata": {},
     "output_type": "display_data"
    }
   ],
   "source": [
    "# Show the Decision Tree\n",
    "options(repr.plot.width=12, repr.plot.height=6.5)\n",
    "par(mfrow=c(1, 2))\n",
    "\n",
    "# Tree size, number of nodes\n",
    "plot(cv_cs$size, cv_cs$dev, type='b', cex=0.7,\n",
    "     xlab='Tree size', ylab='Error',\n",
    "     main=paste0('Best size = ', tree_size)\n",
    "    )\n",
    "abline(v=tree_size, col='red')  # Best tree size\n",
    "\n",
    "# Cost-complexity param, alpha\n",
    "plot(cv_cs$k, cv_cs$dev, type='b', cex=0.7,\n",
    "     xlab='Alpha', ylab='Error',\n",
    "     main=paste0('Best alpha = ', round(tree_k, 3))\n",
    "    )\n",
    "abline(v=tree_k, col='red')"
   ]
  },
  {
   "cell_type": "code",
   "execution_count": 90,
   "metadata": {},
   "outputs": [
    {
     "data": {
      "image/png": "[encoded data removed]",
      "text/plain": [
       "plot without title"
      ]
     },
     "metadata": {},
     "output_type": "display_data"
    }
   ],
   "source": [
    "# Show the relationship between alpha and tree size\n",
    "options(repr.plot.width=6, repr.plot.height=6.5)\n",
    "plot(cv_cs$k, cv_cs$size, type='b', cex=0.7,\n",
    "     xlab='alpha', ylab='Tree size'\n",
    "    )"
   ]
  },
  {
   "cell_type": "code",
   "execution_count": 91,
   "metadata": {},
   "outputs": [
    {
     "data": {
      "image/png": "[encoded data removed]",
      "text/plain": [
       "plot without title"
      ]
     },
     "metadata": {},
     "output_type": "display_data"
    }
   ],
   "source": [
    "# Prune the tree\n",
    "prune_tree <- prune.misclass(md_tree, best=tree_size)\n",
    "\n",
    "# Show the tree\n",
    "options(repr.plot.width=15, repr.plot.height=15)\n",
    "plot(prune_tree)\n",
    "text(prune_tree, pretty=0)"
   ]
  },
  {
   "cell_type": "code",
   "execution_count": 92,
   "metadata": {
    "scrolled": true
   },
   "outputs": [
    {
     "data": {
      "text/plain": [
       "           \n",
       "pred_pruned  No Yes\n",
       "        No  103  33\n",
       "        Yes  14  50"
      ]
     },
     "metadata": {},
     "output_type": "display_data"
    },
    {
     "name": "stdout",
     "output_type": "stream",
     "text": [
      "[1] \"Accuracy = 0.765\"\n"
     ]
    },
    {
     "name": "stderr",
     "output_type": "stream",
     "text": [
      "Setting levels: control = No, case = Yes\n",
      "Setting direction: controls < cases\n"
     ]
    },
    {
     "name": "stdout",
     "output_type": "stream",
     "text": [
      "[1] \"AUC = 0.803315827412213\"\n"
     ]
    }
   ],
   "source": [
    "# Check the performance of the pruned tree\n",
    "set.seed(1)  # Fixed 50:50 class\n",
    "pred_pruned <- predict(prune_tree, newdata=test, type='class')\n",
    "pred_pruned_proba <- predict(prune_tree, newdata=test, type='vector')[, 'Yes']\n",
    "\n",
    "# Evaluation: confusion matrix\n",
    "table(pred_pruned, test$High)\n",
    "\n",
    "# Accuracy\n",
    "print(paste0('Accuracy = ', mean(pred_pruned == test$High)))\n",
    "\n",
    "# AUC\n",
    "print(paste0('AUC = ', pROC::auc(pROC::roc(test$High, pred_pruned_proba))))"
   ]
  },
  {
   "cell_type": "markdown",
   "metadata": {},
   "source": [
    "### Lab 2: Cars Sales Data - Regression Tree\n",
    "\n",
    "- Q1: Build and evaluate the Regression Tree model with train/test (50:50) set.\n",
    "- Q2: Prune and evaluate Regression Tree at Q1. Does it peform better?"
   ]
  },
  {
   "cell_type": "markdown",
   "metadata": {},
   "source": [
    "#### Import, explore and prepare data"
   ]
  },
  {
   "cell_type": "code",
   "execution_count": 93,
   "metadata": {},
   "outputs": [
    {
     "name": "stderr",
     "output_type": "stream",
     "text": [
      "Warning message:\n",
      "\"package 'MASS' was built under R version 3.6.3\""
     ]
    }
   ],
   "source": [
    "# Load require packages\n",
    "library(tree)  # Regression and classification tree\n",
    "library(MASS)  # Housing dataset"
   ]
  },
  {
   "cell_type": "code",
   "execution_count": 94,
   "metadata": {},
   "outputs": [
    {
     "name": "stdout",
     "output_type": "stream",
     "text": [
      "'data.frame':\t506 obs. of  14 variables:\n",
      " $ crim   : num  0.00632 0.02731 0.02729 0.03237 0.06905 ...\n",
      " $ zn     : num  18 0 0 0 0 0 12.5 12.5 12.5 12.5 ...\n",
      " $ indus  : num  2.31 7.07 7.07 2.18 2.18 2.18 7.87 7.87 7.87 7.87 ...\n",
      " $ chas   : int  0 0 0 0 0 0 0 0 0 0 ...\n",
      " $ nox    : num  0.538 0.469 0.469 0.458 0.458 0.458 0.524 0.524 0.524 0.524 ...\n",
      " $ rm     : num  6.58 6.42 7.18 7 7.15 ...\n",
      " $ age    : num  65.2 78.9 61.1 45.8 54.2 58.7 66.6 96.1 100 85.9 ...\n",
      " $ dis    : num  4.09 4.97 4.97 6.06 6.06 ...\n",
      " $ rad    : int  1 2 2 3 3 3 5 5 5 5 ...\n",
      " $ tax    : num  296 242 242 222 222 222 311 311 311 311 ...\n",
      " $ ptratio: num  15.3 17.8 17.8 18.7 18.7 18.7 15.2 15.2 15.2 15.2 ...\n",
      " $ black  : num  397 397 393 395 397 ...\n",
      " $ lstat  : num  4.98 9.14 4.03 2.94 5.33 ...\n",
      " $ medv   : num  24 21.6 34.7 33.4 36.2 28.7 22.9 27.1 16.5 18.9 ...\n"
     ]
    }
   ],
   "source": [
    "# Load and explore the dataset\n",
    "# crim: per capita crime rate by town\n",
    "# zn: proportion of residential land zoned for lots over 25,000 sq.ft.\n",
    "# indus: proportion of non-retail business acres per town.\n",
    "# chas: Charles River dummy variable (= 1 if tract bounds river; 0 otherwise).\n",
    "# nox: nitrogen oxides concentration (parts per 10 million).\n",
    "# rm: average number of rooms per dwelling.\n",
    "# age: proportion of owner-occupied units built prior to 1940.\n",
    "# dis: weighted mean of distances to five Boston employment centres.\n",
    "# rad: index of accessibility to radial highways.\n",
    "# tax: full-value property-tax rate per \\$10,000.\n",
    "# ptratio: pupil-teacher ratio by town.\n",
    "# black: 1000(Bk − 0.63)^2 where Bk is the proportion of blacks by town.\n",
    "# lstat: lower status of the population (percent).\n",
    "# medv: median value of owner-occupied homes in $1000s.\n",
    "bt <- MASS::Boston\n",
    "str(bt)"
   ]
  },
  {
   "cell_type": "code",
   "execution_count": 95,
   "metadata": {},
   "outputs": [
    {
     "data": {
      "text/html": [
       "<dl class=dl-horizontal>\n",
       "\t<dt>crim</dt>\n",
       "\t\t<dd>0</dd>\n",
       "\t<dt>zn</dt>\n",
       "\t\t<dd>0</dd>\n",
       "\t<dt>indus</dt>\n",
       "\t\t<dd>0</dd>\n",
       "\t<dt>chas</dt>\n",
       "\t\t<dd>0</dd>\n",
       "\t<dt>nox</dt>\n",
       "\t\t<dd>0</dd>\n",
       "\t<dt>rm</dt>\n",
       "\t\t<dd>0</dd>\n",
       "\t<dt>age</dt>\n",
       "\t\t<dd>0</dd>\n",
       "\t<dt>dis</dt>\n",
       "\t\t<dd>0</dd>\n",
       "\t<dt>rad</dt>\n",
       "\t\t<dd>0</dd>\n",
       "\t<dt>tax</dt>\n",
       "\t\t<dd>0</dd>\n",
       "\t<dt>ptratio</dt>\n",
       "\t\t<dd>0</dd>\n",
       "\t<dt>black</dt>\n",
       "\t\t<dd>0</dd>\n",
       "\t<dt>lstat</dt>\n",
       "\t\t<dd>0</dd>\n",
       "\t<dt>medv</dt>\n",
       "\t\t<dd>0</dd>\n",
       "</dl>\n"
      ],
      "text/latex": [
       "\\begin{description*}\n",
       "\\item[crim] 0\n",
       "\\item[zn] 0\n",
       "\\item[indus] 0\n",
       "\\item[chas] 0\n",
       "\\item[nox] 0\n",
       "\\item[rm] 0\n",
       "\\item[age] 0\n",
       "\\item[dis] 0\n",
       "\\item[rad] 0\n",
       "\\item[tax] 0\n",
       "\\item[ptratio] 0\n",
       "\\item[black] 0\n",
       "\\item[lstat] 0\n",
       "\\item[medv] 0\n",
       "\\end{description*}\n"
      ],
      "text/markdown": [
       "crim\n",
       ":   0zn\n",
       ":   0indus\n",
       ":   0chas\n",
       ":   0nox\n",
       ":   0rm\n",
       ":   0age\n",
       ":   0dis\n",
       ":   0rad\n",
       ":   0tax\n",
       ":   0ptratio\n",
       ":   0black\n",
       ":   0lstat\n",
       ":   0medv\n",
       ":   0\n",
       "\n"
      ],
      "text/plain": [
       "   crim      zn   indus    chas     nox      rm     age     dis     rad     tax \n",
       "      0       0       0       0       0       0       0       0       0       0 \n",
       "ptratio   black   lstat    medv \n",
       "      0       0       0       0 "
      ]
     },
     "metadata": {},
     "output_type": "display_data"
    }
   ],
   "source": [
    "# Check NAs\n",
    "apply(is.na(bt), 2, sum)"
   ]
  },
  {
   "cell_type": "code",
   "execution_count": 96,
   "metadata": {},
   "outputs": [
    {
     "data": {
      "text/plain": [
       "   Min. 1st Qu.  Median    Mean 3rd Qu.    Max. \n",
       "   5.00   17.02   21.20   22.53   25.00   50.00 "
      ]
     },
     "metadata": {},
     "output_type": "display_data"
    },
    {
     "data": {
      "image/png": "[encoded data removed]",
      "text/plain": [
       "Plot with title \"Median house price (in $1000)\""
      ]
     },
     "metadata": {},
     "output_type": "display_data"
    }
   ],
   "source": [
    "# Check the target variable: median house price\n",
    "summary(bt$medv)\n",
    "\n",
    "options(repr.plot.width=6, repr.plot.height=6.5)\n",
    "hist(bt$medv,\n",
    "     main='Median house price (in $1000)', xlab='')"
   ]
  },
  {
   "cell_type": "markdown",
   "metadata": {},
   "source": [
    "**Q1:** Build and evaluate the Regression Tree model with train/test (50:50) set."
   ]
  },
  {
   "cell_type": "code",
   "execution_count": 97,
   "metadata": {},
   "outputs": [],
   "source": [
    "# Separate train/test\n",
    "set.seed(1)\n",
    "train_idx <- sample(1:nrow(bt), nrow(bt) / 2)\n",
    "train <- bt[train_idx, ]\n",
    "test <- bt[-train_idx, ]"
   ]
  },
  {
   "cell_type": "code",
   "execution_count": 98,
   "metadata": {},
   "outputs": [
    {
     "data": {
      "text/plain": [
       "\n",
       "Regression tree:\n",
       "tree(formula = medv ~ ., data = train)\n",
       "Variables actually used in tree construction:\n",
       "[1] \"rm\"    \"lstat\" \"crim\"  \"age\"  \n",
       "Number of terminal nodes:  7 \n",
       "Residual mean deviance:  10.38 = 2555 / 246 \n",
       "Distribution of residuals:\n",
       "    Min.  1st Qu.   Median     Mean  3rd Qu.     Max. \n",
       "-10.1800  -1.7770  -0.1775   0.0000   1.9230  16.5800 "
      ]
     },
     "metadata": {},
     "output_type": "display_data"
    }
   ],
   "source": [
    "# Fit Decision Tree on train dataset\n",
    "md_rtree <- tree(medv ~ ., data=train)\n",
    "summary(md_rtree)"
   ]
  },
  {
   "cell_type": "code",
   "execution_count": 99,
   "metadata": {},
   "outputs": [
    {
     "data": {
      "image/png": "[encoded data removed]",
      "text/plain": [
       "plot without title"
      ]
     },
     "metadata": {},
     "output_type": "display_data"
    }
   ],
   "source": [
    "# Show the Decision Tree\n",
    "options(repr.plot.width=15, repr.plot.height=10)\n",
    "plot(md_rtree)\n",
    "text(md_rtree, pretty=0)"
   ]
  },
  {
   "cell_type": "code",
   "execution_count": 100,
   "metadata": {},
   "outputs": [
    {
     "data": {
      "text/html": [
       "35.2868818594623"
      ],
      "text/latex": [
       "35.2868818594623"
      ],
      "text/markdown": [
       "35.2868818594623"
      ],
      "text/plain": [
       "[1] 35.28688"
      ]
     },
     "metadata": {},
     "output_type": "display_data"
    }
   ],
   "source": [
    "# Make the prediction\n",
    "pred <- predict(md_rtree, newdata=test)\n",
    "\n",
    "# Evaluation: MSE\n",
    "mean((pred - test$medv) ^ 2)"
   ]
  },
  {
   "cell_type": "markdown",
   "metadata": {},
   "source": [
    "**Q2:** Prune and evaluate Regression Tree at Q1. Does it peform better?"
   ]
  },
  {
   "cell_type": "code",
   "execution_count": 101,
   "metadata": {},
   "outputs": [
    {
     "data": {
      "text/plain": [
       "$size\n",
       "[1] 7 6 5 4 3 2 1\n",
       "\n",
       "$dev\n",
       "[1]  4226.314  4238.911  5132.175  6075.025  6601.868  9898.635 19638.228\n",
       "\n",
       "$k\n",
       "[1]       -Inf   203.9641   637.2707   796.1207  1106.4931  3424.7810 10724.5951\n",
       "\n",
       "$method\n",
       "[1] \"deviance\"\n",
       "\n",
       "attr(,\"class\")\n",
       "[1] \"prune\"         \"tree.sequence\""
      ]
     },
     "metadata": {},
     "output_type": "display_data"
    }
   ],
   "source": [
    "# Prune the previous tree using error rate\n",
    "set.seed(3)\n",
    "cv_bt <- cv.tree(md_rtree)\n",
    "cv_bt"
   ]
  },
  {
   "cell_type": "code",
   "execution_count": 102,
   "metadata": {},
   "outputs": [
    {
     "name": "stdout",
     "output_type": "stream",
     "text": [
      "[1] \"Best tree size = 7\"\n",
      "[1] \"Best Error = 4226.31379712386\"\n",
      "[1] \"Best alpha = -Inf\"\n"
     ]
    }
   ],
   "source": [
    "# Best tree size\n",
    "min_idx <- which.min(cv_bt$dev)\n",
    "tree_size <- cv_bt$size[min_idx]\n",
    "tree_dev <- cv_bt$dev[min_idx]\n",
    "tree_k <- cv_bt$k[min_idx]\n",
    "\n",
    "print(paste0('Best tree size = ', tree_size))\n",
    "print(paste0('Best Error = ', tree_dev))\n",
    "print(paste0('Best alpha = ', tree_k))"
   ]
  },
  {
   "cell_type": "code",
   "execution_count": 103,
   "metadata": {},
   "outputs": [
    {
     "data": {
      "image/png": "[encoded data removed]",
      "text/plain": [
       "Plot with title \"Best size = 7\""
      ]
     },
     "metadata": {},
     "output_type": "display_data"
    }
   ],
   "source": [
    "# Show the relationship between the size and the error of the tree\n",
    "options(repr.plot.width=6, repr.plot.height=6.5)\n",
    "plot(cv_bt$size, cv_bt$dev, type='b', cex=0.7,\n",
    "     main=paste0('Best size = ', tree_size),\n",
    "     ylab='Error', xlab='Tree size'\n",
    "    )  # Tree size, number of nodes\n",
    "abline(v=tree_size, col='red')  # Best tree size"
   ]
  },
  {
   "cell_type": "code",
   "execution_count": 104,
   "metadata": {},
   "outputs": [
    {
     "data": {
      "image/png": "[encoded data removed]",
      "text/plain": [
       "plot without title"
      ]
     },
     "metadata": {},
     "output_type": "display_data"
    }
   ],
   "source": [
    "# Prune the tree\n",
    "prune_rtree <- prune.tree(md_rtree, best=tree_size)\n",
    "\n",
    "# Show the tree\n",
    "options(repr.plot.width=15, repr.plot.height=10)\n",
    "plot(prune_rtree)\n",
    "text(prune_rtree, pretty=0)"
   ]
  },
  {
   "cell_type": "code",
   "execution_count": 105,
   "metadata": {
    "scrolled": false
   },
   "outputs": [
    {
     "data": {
      "text/html": [
       "35.2868818594623"
      ],
      "text/latex": [
       "35.2868818594623"
      ],
      "text/markdown": [
       "35.2868818594623"
      ],
      "text/plain": [
       "[1] 35.28688"
      ]
     },
     "metadata": {},
     "output_type": "display_data"
    }
   ],
   "source": [
    "# Check the performance of the pruned tree\n",
    "pred_pruned <- predict(prune_rtree, newdata=test)\n",
    "\n",
    "# Evaluation: MSE\n",
    "mean((pred_pruned - test$medv) ^ 2)"
   ]
  },
  {
   "cell_type": "markdown",
   "metadata": {},
   "source": [
    "### Lab 3: Boston Housing Data - Bagging and Random Forests\n",
    "\n",
    "- Q1: Train a Bagging Regression Tree model. Compare it performance with the Decision Tree model.\n",
    "- Q2: Train a Random Forests model. Compare it performance with the Decision Tree and Bagging Tree model.\n",
    "- Q3: Extract the variable importance of Random Forests model. Which variables are most important?"
   ]
  },
  {
   "cell_type": "markdown",
   "metadata": {},
   "source": [
    "#### Import, explore and prepare data"
   ]
  },
  {
   "cell_type": "code",
   "execution_count": 106,
   "metadata": {},
   "outputs": [
    {
     "name": "stderr",
     "output_type": "stream",
     "text": [
      "randomForest 4.6-14\n",
      "Type rfNews() to see new features/changes/bug fixes.\n"
     ]
    }
   ],
   "source": [
    "# Load required libaries and data\n",
    "library(randomForest)  # Random Forests model\n",
    "library(MASS)  # Boston housing data"
   ]
  },
  {
   "cell_type": "code",
   "execution_count": 107,
   "metadata": {},
   "outputs": [
    {
     "name": "stdout",
     "output_type": "stream",
     "text": [
      "'data.frame':\t506 obs. of  14 variables:\n",
      " $ crim   : num  0.00632 0.02731 0.02729 0.03237 0.06905 ...\n",
      " $ zn     : num  18 0 0 0 0 0 12.5 12.5 12.5 12.5 ...\n",
      " $ indus  : num  2.31 7.07 7.07 2.18 2.18 2.18 7.87 7.87 7.87 7.87 ...\n",
      " $ chas   : int  0 0 0 0 0 0 0 0 0 0 ...\n",
      " $ nox    : num  0.538 0.469 0.469 0.458 0.458 0.458 0.524 0.524 0.524 0.524 ...\n",
      " $ rm     : num  6.58 6.42 7.18 7 7.15 ...\n",
      " $ age    : num  65.2 78.9 61.1 45.8 54.2 58.7 66.6 96.1 100 85.9 ...\n",
      " $ dis    : num  4.09 4.97 4.97 6.06 6.06 ...\n",
      " $ rad    : int  1 2 2 3 3 3 5 5 5 5 ...\n",
      " $ tax    : num  296 242 242 222 222 222 311 311 311 311 ...\n",
      " $ ptratio: num  15.3 17.8 17.8 18.7 18.7 18.7 15.2 15.2 15.2 15.2 ...\n",
      " $ black  : num  397 397 393 395 397 ...\n",
      " $ lstat  : num  4.98 9.14 4.03 2.94 5.33 ...\n",
      " $ medv   : num  24 21.6 34.7 33.4 36.2 28.7 22.9 27.1 16.5 18.9 ...\n"
     ]
    }
   ],
   "source": [
    "# Import data\n",
    "# crim: per capita crime rate by town\n",
    "# zn: proportion of residential land zoned for lots over 25,000 sq.ft.\n",
    "# indus: proportion of non-retail business acres per town.\n",
    "# chas: Charles River dummy variable (= 1 if tract bounds river; 0 otherwise).\n",
    "# nox: nitrogen oxides concentration (parts per 10 million).\n",
    "# rm: average number of rooms per dwelling.\n",
    "# age: proportion of owner-occupied units built prior to 1940.\n",
    "# dis: weighted mean of distances to five Boston employment centres.\n",
    "# rad: index of accessibility to radial highways.\n",
    "# tax: full-value property-tax rate per \\$10,000.\n",
    "# ptratio: pupil-teacher ratio by town.\n",
    "# black: 1000(Bk − 0.63)^2 where Bk is the proportion of blacks by town.\n",
    "# lstat: lower status of the population (percent).\n",
    "# medv: median value of owner-occupied homes in $1000s.\n",
    "house <- MASS::Boston\n",
    "str(house)"
   ]
  },
  {
   "cell_type": "code",
   "execution_count": 108,
   "metadata": {},
   "outputs": [],
   "source": [
    "# Separate train/test\n",
    "set.seed(1)\n",
    "train_idx <- sample(1:nrow(house), nrow(house) / 2)\n",
    "train <- bt[train_idx, ]\n",
    "test <- bt[-train_idx, ]"
   ]
  },
  {
   "cell_type": "markdown",
   "metadata": {},
   "source": [
    "**Q1:** Train a Bagging Regression Tree model. Compare it performance with the Decision Tree model."
   ]
  },
  {
   "cell_type": "code",
   "execution_count": 109,
   "metadata": {},
   "outputs": [
    {
     "data": {
      "text/plain": [
       "\n",
       "Call:\n",
       " randomForest(formula = medv ~ ., data = train, mtry = 13, importance = T) \n",
       "               Type of random forest: regression\n",
       "                     Number of trees: 500\n",
       "No. of variables tried at each split: 13\n",
       "\n",
       "          Mean of squared residuals: 11.33119\n",
       "                    % Var explained: 85.26"
      ]
     },
     "metadata": {},
     "output_type": "display_data"
    }
   ],
   "source": [
    "# Fit bagging model, use all predictors\n",
    "md_bagtree <- randomForest(medv ~ ., data=train, mtry=13, importance=T)\n",
    "md_bagtree"
   ]
  },
  {
   "cell_type": "code",
   "execution_count": 110,
   "metadata": {},
   "outputs": [
    {
     "data": {
      "text/html": [
       "23.4578968550205"
      ],
      "text/latex": [
       "23.4578968550205"
      ],
      "text/markdown": [
       "23.4578968550205"
      ],
      "text/plain": [
       "[1] 23.4579"
      ]
     },
     "metadata": {},
     "output_type": "display_data"
    },
    {
     "data": {
      "image/png": "[encoded data removed]",
      "text/plain": [
       "plot without title"
      ]
     },
     "metadata": {},
     "output_type": "display_data"
    }
   ],
   "source": [
    "# Make prediction\n",
    "pred <- predict(md_bagtree, newdata=test)\n",
    "\n",
    "options(repr.plot.width=6, repr.plot.height=6.5)\n",
    "plot(pred, test$medv, cex=0.7)\n",
    "abline(0, 1, col='red')\n",
    "\n",
    "# MSE\n",
    "mean((pred - test$medv) ^ 2)"
   ]
  },
  {
   "cell_type": "code",
   "execution_count": 111,
   "metadata": {},
   "outputs": [
    {
     "data": {
      "text/html": [
       "22.7921133961528"
      ],
      "text/latex": [
       "22.7921133961528"
      ],
      "text/markdown": [
       "22.7921133961528"
      ],
      "text/plain": [
       "[1] 22.79211"
      ]
     },
     "metadata": {},
     "output_type": "display_data"
    }
   ],
   "source": [
    "# Fit bagging model with different number of trees\n",
    "md_bagtree <- randomForest(medv ~ ., data=train, mtry=13, ntree=25, importance=T)\n",
    "pred <- predict(md_bagtree, newdata=test)\n",
    "\n",
    "# Evaluation: MSE\n",
    "mean((pred - test$medv) ^ 2)"
   ]
  },
  {
   "cell_type": "markdown",
   "metadata": {},
   "source": [
    "**Q2:** Train a Random Forests model. Compare it performance with the Decision Tree and Bagging Tree model."
   ]
  },
  {
   "cell_type": "code",
   "execution_count": 112,
   "metadata": {},
   "outputs": [
    {
     "data": {
      "text/plain": [
       "\n",
       "Call:\n",
       " randomForest(formula = medv ~ ., data = train, mtry = 6, importance = T) \n",
       "               Type of random forest: regression\n",
       "                     Number of trees: 500\n",
       "No. of variables tried at each split: 6\n",
       "\n",
       "          Mean of squared residuals: 9.779194\n",
       "                    % Var explained: 87.28"
      ]
     },
     "metadata": {},
     "output_type": "display_data"
    }
   ],
   "source": [
    "# Fit random forests model\n",
    "set.seed(1)\n",
    "md_rf <- randomForest(medv ~ ., data=train, mtry=6, importance=T)  # Default mtry = p/3\n",
    "md_rf"
   ]
  },
  {
   "cell_type": "code",
   "execution_count": 113,
   "metadata": {},
   "outputs": [
    {
     "data": {
      "text/html": [
       "19.6202073910648"
      ],
      "text/latex": [
       "19.6202073910648"
      ],
      "text/markdown": [
       "19.6202073910648"
      ],
      "text/plain": [
       "[1] 19.62021"
      ]
     },
     "metadata": {},
     "output_type": "display_data"
    }
   ],
   "source": [
    "# Make prediction\n",
    "pred_rf <- predict(md_rf, newdata=test)\n",
    "\n",
    "# Evaluation: MSE\n",
    "mean((pred_rf - test$medv) ^ 2)"
   ]
  },
  {
   "cell_type": "markdown",
   "metadata": {},
   "source": [
    "**Q3:** Extract the variable importance of Random Forests model. Which variables are most important?"
   ]
  },
  {
   "cell_type": "code",
   "execution_count": 114,
   "metadata": {},
   "outputs": [
    {
     "data": {
      "text/html": [
       "<table>\n",
       "<thead><tr><th></th><th scope=col>%IncMSE</th><th scope=col>IncNodePurity</th></tr></thead>\n",
       "<tbody>\n",
       "\t<tr><th scope=row>crim</th><td>16.697017 </td><td>1076.08786</td></tr>\n",
       "\t<tr><th scope=row>zn</th><td> 3.625784 </td><td>  88.35342</td></tr>\n",
       "\t<tr><th scope=row>indus</th><td> 4.968621 </td><td> 609.53356</td></tr>\n",
       "\t<tr><th scope=row>chas</th><td> 1.061432 </td><td>  52.21793</td></tr>\n",
       "\t<tr><th scope=row>nox</th><td>13.518179 </td><td> 709.87339</td></tr>\n",
       "\t<tr><th scope=row>rm</th><td>32.343305 </td><td>7857.65451</td></tr>\n",
       "\t<tr><th scope=row>age</th><td>13.272498 </td><td> 612.21424</td></tr>\n",
       "\t<tr><th scope=row>dis</th><td> 9.032477 </td><td> 714.94674</td></tr>\n",
       "\t<tr><th scope=row>rad</th><td> 2.878434 </td><td>  95.80598</td></tr>\n",
       "\t<tr><th scope=row>tax</th><td> 9.118801 </td><td> 364.92479</td></tr>\n",
       "\t<tr><th scope=row>ptratio</th><td> 8.467062 </td><td> 823.93341</td></tr>\n",
       "\t<tr><th scope=row>black</th><td> 7.579482 </td><td> 275.62272</td></tr>\n",
       "\t<tr><th scope=row>lstat</th><td>27.129817 </td><td>6027.63740</td></tr>\n",
       "</tbody>\n",
       "</table>\n"
      ],
      "text/latex": [
       "\\begin{tabular}{r|ll}\n",
       "  & \\%IncMSE & IncNodePurity\\\\\n",
       "\\hline\n",
       "\tcrim & 16.697017  & 1076.08786\\\\\n",
       "\tzn &  3.625784  &   88.35342\\\\\n",
       "\tindus &  4.968621  &  609.53356\\\\\n",
       "\tchas &  1.061432  &   52.21793\\\\\n",
       "\tnox & 13.518179  &  709.87339\\\\\n",
       "\trm & 32.343305  & 7857.65451\\\\\n",
       "\tage & 13.272498  &  612.21424\\\\\n",
       "\tdis &  9.032477  &  714.94674\\\\\n",
       "\trad &  2.878434  &   95.80598\\\\\n",
       "\ttax &  9.118801  &  364.92479\\\\\n",
       "\tptratio &  8.467062  &  823.93341\\\\\n",
       "\tblack &  7.579482  &  275.62272\\\\\n",
       "\tlstat & 27.129817  & 6027.63740\\\\\n",
       "\\end{tabular}\n"
      ],
      "text/markdown": [
       "\n",
       "| <!--/--> | %IncMSE | IncNodePurity |\n",
       "|---|---|---|\n",
       "| crim | 16.697017  | 1076.08786 |\n",
       "| zn |  3.625784  |   88.35342 |\n",
       "| indus |  4.968621  |  609.53356 |\n",
       "| chas |  1.061432  |   52.21793 |\n",
       "| nox | 13.518179  |  709.87339 |\n",
       "| rm | 32.343305  | 7857.65451 |\n",
       "| age | 13.272498  |  612.21424 |\n",
       "| dis |  9.032477  |  714.94674 |\n",
       "| rad |  2.878434  |   95.80598 |\n",
       "| tax |  9.118801  |  364.92479 |\n",
       "| ptratio |  8.467062  |  823.93341 |\n",
       "| black |  7.579482  |  275.62272 |\n",
       "| lstat | 27.129817  | 6027.63740 |\n",
       "\n"
      ],
      "text/plain": [
       "        %IncMSE   IncNodePurity\n",
       "crim    16.697017 1076.08786   \n",
       "zn       3.625784   88.35342   \n",
       "indus    4.968621  609.53356   \n",
       "chas     1.061432   52.21793   \n",
       "nox     13.518179  709.87339   \n",
       "rm      32.343305 7857.65451   \n",
       "age     13.272498  612.21424   \n",
       "dis      9.032477  714.94674   \n",
       "rad      2.878434   95.80598   \n",
       "tax      9.118801  364.92479   \n",
       "ptratio  8.467062  823.93341   \n",
       "black    7.579482  275.62272   \n",
       "lstat   27.129817 6027.63740   "
      ]
     },
     "metadata": {},
     "output_type": "display_data"
    }
   ],
   "source": [
    "# Feature importance\n",
    "#importance(md_rf, type=2)\n",
    "importance(md_rf)"
   ]
  },
  {
   "cell_type": "code",
   "execution_count": 115,
   "metadata": {
    "scrolled": true
   },
   "outputs": [
    {
     "data": {
      "image/png": "[encoded data removed]",
      "text/plain": [
       "Plot with title \"Variable Importance - RF\""
      ]
     },
     "metadata": {},
     "output_type": "display_data"
    }
   ],
   "source": [
    "# Plot feature importance\n",
    "options(repr.plot.width=6, repr.plot.height=6.5)\n",
    "varImpPlot(md_rf, type=2, main='Variable Importance - RF')"
   ]
  },
  {
   "cell_type": "markdown",
   "metadata": {},
   "source": [
    "### Lab 4: Boston Housing Data - Boosting Regression Tree\n",
    "\n",
    "- Q1: Train a Boosting Tree model. Compare it performance with the Decision Tree, Bagging Tree, Random Forests model.\n",
    "- Q2: Extract the variable importance of Boosting Tree model. Which variables are most important?"
   ]
  },
  {
   "cell_type": "markdown",
   "metadata": {},
   "source": [
    "#### Import, explore and prepare data"
   ]
  },
  {
   "cell_type": "code",
   "execution_count": 116,
   "metadata": {},
   "outputs": [
    {
     "ename": "ERROR",
     "evalue": "Error in library(gbm): there is no package called 'gbm'\n",
     "output_type": "error",
     "traceback": [
      "Error in library(gbm): there is no package called 'gbm'\nTraceback:\n",
      "1. library(gbm)"
     ]
    }
   ],
   "source": [
    "# Load required libaries and data\n",
    "library(gbm)  # Boosting library\n",
    "library(MASS)  # Boston housing data"
   ]
  },
  {
   "cell_type": "code",
   "execution_count": 117,
   "metadata": {},
   "outputs": [
    {
     "name": "stdout",
     "output_type": "stream",
     "text": [
      "'data.frame':\t506 obs. of  14 variables:\n",
      " $ crim   : num  0.00632 0.02731 0.02729 0.03237 0.06905 ...\n",
      " $ zn     : num  18 0 0 0 0 0 12.5 12.5 12.5 12.5 ...\n",
      " $ indus  : num  2.31 7.07 7.07 2.18 2.18 2.18 7.87 7.87 7.87 7.87 ...\n",
      " $ chas   : int  0 0 0 0 0 0 0 0 0 0 ...\n",
      " $ nox    : num  0.538 0.469 0.469 0.458 0.458 0.458 0.524 0.524 0.524 0.524 ...\n",
      " $ rm     : num  6.58 6.42 7.18 7 7.15 ...\n",
      " $ age    : num  65.2 78.9 61.1 45.8 54.2 58.7 66.6 96.1 100 85.9 ...\n",
      " $ dis    : num  4.09 4.97 4.97 6.06 6.06 ...\n",
      " $ rad    : int  1 2 2 3 3 3 5 5 5 5 ...\n",
      " $ tax    : num  296 242 242 222 222 222 311 311 311 311 ...\n",
      " $ ptratio: num  15.3 17.8 17.8 18.7 18.7 18.7 15.2 15.2 15.2 15.2 ...\n",
      " $ black  : num  397 397 393 395 397 ...\n",
      " $ lstat  : num  4.98 9.14 4.03 2.94 5.33 ...\n",
      " $ medv   : num  24 21.6 34.7 33.4 36.2 28.7 22.9 27.1 16.5 18.9 ...\n"
     ]
    }
   ],
   "source": [
    "# Import data\n",
    "# crim: per capita crime rate by town\n",
    "# zn: proportion of residential land zoned for lots over 25,000 sq.ft.\n",
    "# indus: proportion of non-retail business acres per town.\n",
    "# chas: Charles River dummy variable (= 1 if tract bounds river; 0 otherwise).\n",
    "# nox: nitrogen oxides concentration (parts per 10 million).\n",
    "# rm: average number of rooms per dwelling.\n",
    "# age: proportion of owner-occupied units built prior to 1940.\n",
    "# dis: weighted mean of distances to five Boston employment centres.\n",
    "# rad: index of accessibility to radial highways.\n",
    "# tax: full-value property-tax rate per \\$10,000.\n",
    "# ptratio: pupil-teacher ratio by town.\n",
    "# black: 1000(Bk − 0.63)^2 where Bk is the proportion of blacks by town.\n",
    "# lstat: lower status of the population (percent).\n",
    "# medv: median value of owner-occupied homes in $1000s.\n",
    "house <- MASS::Boston\n",
    "str(house)"
   ]
  },
  {
   "cell_type": "code",
   "execution_count": 118,
   "metadata": {},
   "outputs": [],
   "source": [
    "# Separate train/test\n",
    "set.seed(1)\n",
    "train_idx <- sample(1:nrow(house), nrow(house) / 2)\n",
    "train <- bt[train_idx, ]\n",
    "test <- bt[-train_idx, ]"
   ]
  },
  {
   "cell_type": "markdown",
   "metadata": {},
   "source": [
    "**Q1:** Train a Boosting Tree model. Compare it performance with the Decision Tree, Bagging Tree, Random Forests model."
   ]
  },
  {
   "cell_type": "code",
   "execution_count": 119,
   "metadata": {},
   "outputs": [
    {
     "ename": "ERROR",
     "evalue": "Error in gbm(medv ~ ., data = train, distribution = \"gaussian\", n.trees = 5000, : could not find function \"gbm\"\n",
     "output_type": "error",
     "traceback": [
      "Error in gbm(medv ~ ., data = train, distribution = \"gaussian\", n.trees = 5000, : could not find function \"gbm\"\nTraceback:\n"
     ]
    }
   ],
   "source": [
    "# Fit boosting regression tree\n",
    "set.seed(1)\n",
    "md_boosttree <- gbm(medv ~ ., data=train,\n",
    "                    distribution='gaussian',\n",
    "                    n.trees=5000,  # Number of boosting iteration\n",
    "                    interaction.depth=4)  # Maximum nodes per tree"
   ]
  },
  {
   "cell_type": "code",
   "execution_count": 120,
   "metadata": {},
   "outputs": [
    {
     "ename": "ERROR",
     "evalue": "Error in predict(md_boosttree, newdata = test, n.trees = 5000): object 'md_boosttree' not found\n",
     "output_type": "error",
     "traceback": [
      "Error in predict(md_boosttree, newdata = test, n.trees = 5000): object 'md_boosttree' not found\nTraceback:\n",
      "1. predict(md_boosttree, newdata = test, n.trees = 5000)"
     ]
    }
   ],
   "source": [
    "# Make prediction\n",
    "pred <- predict(md_boosttree, newdata=test, n.trees=5000)\n",
    "\n",
    "# MSE\n",
    "mean((pred - test$medv) ^ 2)"
   ]
  },
  {
   "cell_type": "code",
   "execution_count": 121,
   "metadata": {},
   "outputs": [
    {
     "ename": "ERROR",
     "evalue": "Error in gbm(medv ~ ., data = train, distribution = \"gaussian\", n.trees = 5000, : could not find function \"gbm\"\n",
     "output_type": "error",
     "traceback": [
      "Error in gbm(medv ~ ., data = train, distribution = \"gaussian\", n.trees = 5000, : could not find function \"gbm\"\nTraceback:\n"
     ]
    }
   ],
   "source": [
    "# Fit boosting model with different shrinkage param, default alpha = 0.001\n",
    "set.seed(3)\n",
    "md_boosttree <- gbm(medv ~ ., data=train, distribution='gaussian',\n",
    "                    n.trees=5000, interaction.depth=4, shrinkage=0.01,\n",
    "                    verbose=F)\n",
    "\n",
    "# Make prediction\n",
    "pred <- predict(md_boosttree, newdata=test, n.trees=5000)\n",
    "\n",
    "# Evaluation: MSE\n",
    "mean((pred - test$medv) ^ 2)"
   ]
  },
  {
   "cell_type": "markdown",
   "metadata": {},
   "source": [
    "**Q2:** Extract the variable importance of Boosting Tree model. Which variables are most important?"
   ]
  },
  {
   "cell_type": "code",
   "execution_count": 122,
   "metadata": {
    "scrolled": false
   },
   "outputs": [
    {
     "ename": "ERROR",
     "evalue": "Error in summary(md_boosttree): object 'md_boosttree' not found\n",
     "output_type": "error",
     "traceback": [
      "Error in summary(md_boosttree): object 'md_boosttree' not found\nTraceback:\n",
      "1. summary(md_boosttree)"
     ]
    }
   ],
   "source": [
    "options(repr.plot.width=6, repr.plot.height=6.5)\n",
    "summary(md_boosttree)"
   ]
  },
  {
   "cell_type": "code",
   "execution_count": 123,
   "metadata": {},
   "outputs": [
    {
     "ename": "ERROR",
     "evalue": "Error in plot(md_boosttree, i = \"rm\"): object 'md_boosttree' not found\n",
     "output_type": "error",
     "traceback": [
      "Error in plot(md_boosttree, i = \"rm\"): object 'md_boosttree' not found\nTraceback:\n",
      "1. plot(md_boosttree, i = \"rm\")"
     ]
    }
   ],
   "source": [
    "# Partial dependence plots\n",
    "options(repr.plot.width=8, repr.plot.height=4)\n",
    "par(mfrow=c(2, 1))\n",
    "plot(md_boosttree, i='rm')\n",
    "plot(md_boosttree, i='lstat')"
   ]
  },
  {
   "cell_type": "markdown",
   "metadata": {},
   "source": [
    "## Homework\n",
    "- Exercise 3 (p.332, Chap.8), 5 (p.332, Chap.8), 8 (p.333, Chap.8), 9 (p.334, Chap.8) and 10 (p.334, Chap.8)"
   ]
  },
  {
   "cell_type": "code",
   "execution_count": 1,
   "metadata": {},
   "outputs": [
    {
     "data": {
      "image/png": "[encoded data removed]",
      "text/plain": [
       "plot without title"
      ]
     },
     "metadata": {},
     "output_type": "display_data"
    }
   ],
   "source": [
    "#EXERCISE 3, CHAPTER 8\n",
    "\n",
    "p <- seq(0, 1, 0.001)\n",
    "GI <- 2 * p * (1 - p)\n",
    "class_error <- 1 - pmax(p, 1 - p)\n",
    "e <- - (p * log(p) + (1 - p) * log(1 - p))\n",
    "matplot(p, cbind(GI, e, class_error), col = c(\"green\", \"purple\", \"orange\"))\n"
   ]
  },
  {
   "cell_type": "code",
   "execution_count": 2,
   "metadata": {},
   "outputs": [],
   "source": [
    "#EXERCISE 5, CHAPTER 8\n",
    "\n",
    "#Final classification for majority vote is red glasses and final classification \n",
    "#for the average probability method is green glasses.\n",
    "\n",
    "\n"
   ]
  },
  {
   "cell_type": "code",
   "execution_count": 9,
   "metadata": {},
   "outputs": [
    {
     "data": {
      "text/html": [
       "4.39535740766638"
      ],
      "text/latex": [
       "4.39535740766638"
      ],
      "text/markdown": [
       "4.39535740766638"
      ],
      "text/plain": [
       "[1] 4.395357"
      ]
     },
     "metadata": {},
     "output_type": "display_data"
    },
    {
     "data": {
      "text/html": [
       "4.65862768154965"
      ],
      "text/latex": [
       "4.65862768154965"
      ],
      "text/markdown": [
       "4.65862768154965"
      ],
      "text/plain": [
       "[1] 4.658628"
      ]
     },
     "metadata": {},
     "output_type": "display_data"
    },
    {
     "data": {
      "image/png": "[encoded data removed]",
      "text/plain": [
       "plot without title"
      ]
     },
     "metadata": {},
     "output_type": "display_data"
    },
    {
     "data": {
      "image/png": "[encoded data removed]",
      "text/plain": [
       "plot without title"
      ]
     },
     "metadata": {},
     "output_type": "display_data"
    },
    {
     "data": {
      "text/html": [
       "2.76143978767696"
      ],
      "text/latex": [
       "2.76143978767696"
      ],
      "text/markdown": [
       "2.76143978767696"
      ],
      "text/plain": [
       "[1] 2.76144"
      ]
     },
     "metadata": {},
     "output_type": "display_data"
    },
    {
     "data": {
      "image/png": "[encoded data removed]",
      "text/plain": [
       "plot without title"
      ]
     },
     "metadata": {},
     "output_type": "display_data"
    }
   ],
   "source": [
    "#EXERCISE 8, CHAPTER 8   \n",
    "\n",
    "#reference: https://github.com/leetschau/ISLNotes/blob/master/ch8applied.Rmd\n",
    "\n",
    "#A,B) build a regression tree on training set and calculate its MSE:\n",
    "library(ISLR)\n",
    "library(tree)\n",
    "set.seed(123)\n",
    "\n",
    "\n",
    "train <- sample(1 : nrow(Carseats), nrow(Carseats) / 2)\n",
    "tree.carseats <- tree(Sales ~ ., data = Carseats, subset = train)\n",
    "plot(tree.carseats)\n",
    "text(tree.carseats, pretty = 0)\n",
    "tree.pred <- predict(tree.carseats, Carseats[-train, ])\n",
    "mean((Carseats[-train, 'Sales'] - tree.pred) ^ 2)\n",
    "\n",
    "#MSE of complete regression tree is 4.15.\n",
    "\n",
    "#C) build a pruning tree on training set and calculate its test MSE:\n",
    "\n",
    "set.seed(123)\n",
    "cv.carseats <- cv.tree(tree.carseats, FUN = prune.tree)\n",
    "tree.min <- which.min(cv.carseats$dev)\n",
    "best.node.no <- cv.carseats$size[tree.min]\n",
    "prune.carseats <- prune.tree(tree.carseats, best = best.node.no)\n",
    "tree.pred <- predict(prune.carseats, Carseats[-train, ])\n",
    "mean((Carseats[-train, 'Sales'] - tree.pred) ^ 2)\n",
    "\n",
    "\n",
    "#The test MSE of pruning tree is higher than complete tree.\n",
    "#pruning the tree doesn't prove the test MSE.\n",
    "\n",
    "plot(cv.carseats$size, cv.carseats$dev, type = \"b\")\n",
    "points(best.node.no, cv.carseats$dev[tree.min], col = \"red\", cex = 2, pch = 20)\n",
    "plot(prune.carseats)\n",
    "text(prune.carseats, pretty = 0)\n",
    "\n",
    "\n",
    "#D)test MSE with bagging approach:\n",
    "library(randomForest)\n",
    "set.seed(123)\n",
    "bag.carseats <- randomForest(Sales ~ ., data = Carseats, subset = train, mtry = ncol(Carseats) - 1, importance = TRUE)\n",
    "yhat.bag <- predict(bag.carseats, newdata = Carseats[-train, ])\n",
    "mean((yhat.bag - Carseats[-train, 'Sales']) ^ 2)\n",
    "\n",
    "#The test MSE is 2.6\n",
    "\n",
    "#most 2 important predictors are: *Price* and *ShelveLoc*.\n",
    "\n"
   ]
  },
  {
   "cell_type": "code",
   "execution_count": 20,
   "metadata": {},
   "outputs": [
    {
     "name": "stdout",
     "output_type": "stream",
     "text": [
      "\n",
      "  There is a binary version available but the source version is later:\n",
      "      binary source needs_compilation\n",
      "e1071  1.7-6  1.7-9              TRUE\n",
      "\n",
      "  Binaries will be installed\n"
     ]
    },
    {
     "name": "stderr",
     "output_type": "stream",
     "text": [
      "Warning message:\n",
      "\"package 'e1071' is in use and will not be installed\""
     ]
    },
    {
     "data": {
      "text/plain": [
       "\n",
       "Call:\n",
       "svm(formula = Purchase ~ ., data = OJ.t, kernel = \"linear\", cost = 0.01)\n",
       "\n",
       "\n",
       "Parameters:\n",
       "   SVM-Type:  C-classification \n",
       " SVM-Kernel:  linear \n",
       "       cost:  0.01 \n",
       "\n",
       "Number of Support Vectors:  442\n",
       "\n",
       " ( 220 222 )\n",
       "\n",
       "\n",
       "Number of Classes:  2 \n",
       "\n",
       "Levels: \n",
       " CH MM\n",
       "\n",
       "\n"
      ]
     },
     "metadata": {},
     "output_type": "display_data"
    },
    {
     "data": {
      "text/plain": [
       "    train.p\n",
       "      CH  MM\n",
       "  CH 426  61\n",
       "  MM  71 242"
      ]
     },
     "metadata": {},
     "output_type": "display_data"
    },
    {
     "data": {
      "text/html": [
       "0.16625"
      ],
      "text/latex": [
       "0.16625"
      ],
      "text/markdown": [
       "0.16625"
      ],
      "text/plain": [
       "[1] 0.16625"
      ]
     },
     "metadata": {},
     "output_type": "display_data"
    },
    {
     "data": {
      "text/plain": [
       "    test.p\n",
       "      CH  MM\n",
       "  CH 145  21\n",
       "  MM  27  77"
      ]
     },
     "metadata": {},
     "output_type": "display_data"
    },
    {
     "data": {
      "text/html": [
       "0.181481481481481"
      ],
      "text/latex": [
       "0.181481481481481"
      ],
      "text/markdown": [
       "0.181481481481481"
      ],
      "text/plain": [
       "[1] 0.1814815"
      ]
     },
     "metadata": {},
     "output_type": "display_data"
    },
    {
     "data": {
      "text/plain": [
       "\n",
       "Parameter tuning of 'svm':\n",
       "\n",
       "- sampling method: 10-fold cross validation \n",
       "\n",
       "- best parameters:\n",
       "     cost\n",
       " 3.162278\n",
       "\n",
       "- best performance: 0.16375 \n",
       "\n",
       "- Detailed performance results:\n",
       "          cost   error dispersion\n",
       "1   0.01000000 0.17375 0.04910660\n",
       "2   0.01778279 0.17250 0.04816061\n",
       "3   0.03162278 0.17125 0.04678927\n",
       "4   0.05623413 0.17250 0.04594683\n",
       "5   0.10000000 0.17500 0.04823265\n",
       "6   0.17782794 0.17625 0.04427267\n",
       "7   0.31622777 0.17125 0.04084609\n",
       "8   0.56234133 0.17125 0.04168749\n",
       "9   1.00000000 0.16875 0.03963812\n",
       "10  1.77827941 0.16875 0.04135299\n",
       "11  3.16227766 0.16375 0.04185375\n",
       "12  5.62341325 0.17125 0.03998698\n",
       "13 10.00000000 0.17000 0.04005205\n"
      ]
     },
     "metadata": {},
     "output_type": "display_data"
    },
    {
     "data": {
      "text/plain": [
       "    train.p\n",
       "      CH  MM\n",
       "  CH 427  60\n",
       "  MM  69 244"
      ]
     },
     "metadata": {},
     "output_type": "display_data"
    },
    {
     "data": {
      "text/html": [
       "0.15875"
      ],
      "text/latex": [
       "0.15875"
      ],
      "text/markdown": [
       "0.15875"
      ],
      "text/plain": [
       "[1] 0.15875"
      ]
     },
     "metadata": {},
     "output_type": "display_data"
    },
    {
     "data": {
      "text/plain": [
       "    test.p\n",
       "      CH  MM\n",
       "  CH 149  17\n",
       "  MM  25  79"
      ]
     },
     "metadata": {},
     "output_type": "display_data"
    },
    {
     "data": {
      "text/html": [
       "0.188888888888889"
      ],
      "text/latex": [
       "0.188888888888889"
      ],
      "text/markdown": [
       "0.188888888888889"
      ],
      "text/plain": [
       "[1] 0.1888889"
      ]
     },
     "metadata": {},
     "output_type": "display_data"
    }
   ],
   "source": [
    "#EXERCISE 9, CHAPTER 8\n",
    "install.packages(\"e1071\", dep = TRUE) \n",
    "library(e1071)\n",
    "\n",
    "#A)\n",
    "set.seed(123)\n",
    "train <- sample(nrow(OJ), 800)\n",
    "OJ.t <- OJ[train, ]\n",
    "OJ.te <- OJ[-train, ]\n",
    "\n",
    "#B)\n",
    "svm.linear <- svm(Purchase ~ ., data = OJ.t, kernel = \"linear\", cost = 0.01)\n",
    "summary(svm.linear)\n",
    "\n",
    "\n",
    "#C\n",
    "train.p <- predict(svm.linear, OJ.t)\n",
    "table(OJ.t$Purchase, train.p)\n",
    "(78 + 55) / (439 + 228 + 78 + 55)\n",
    "test.p <- predict(svm.linear, OJ.te)\n",
    "table(OJ.te$Purchase, test.p)\n",
    "(31 + 18) / (141 + 80 + 31 + 18)\n",
    "\n",
    "\n",
    "#error rate is 16.60% and test error rate 18.11%.\n",
    "\n",
    "#D\n",
    "set.seed(123)\n",
    "tuneo <- tune(svm, Purchase ~ ., data = OJ.t, kernel = \"linear\", ranges = list(cost = 10^seq(-2, 1, by = 0.25)))\n",
    "summary(tuneo)\n",
    "\n",
    "\n",
    "#E\n",
    "svm.linear <- svm(Purchase ~ ., kernel = \"linear\", data = OJ.t, cost = tuneo$best.parameter$cost)\n",
    "train.p <- predict(svm.linear, OJ.t)\n",
    "table(OJ.t$Purchase, train.p)\n",
    "(71 + 56) / (438 + 235 + 71 + 56)\n",
    "test.p <- predict(svm.linear, OJ.te)\n",
    "table(OJ.te$Purchase, test.p)\n",
    "(32 + 19) / (140 + 79 + 32 + 19)"
   ]
  },
  {
   "cell_type": "code",
   "execution_count": 21,
   "metadata": {},
   "outputs": [
    {
     "data": {
      "text/html": [
       "59"
      ],
      "text/latex": [
       "59"
      ],
      "text/markdown": [
       "59"
      ],
      "text/plain": [
       "[1] 59"
      ]
     },
     "metadata": {},
     "output_type": "display_data"
    }
   ],
   "source": [
    "#EXERCISE 10, CHAPTER 8\n",
    "#A\n",
    "sum(is.na(Hitters$Salary))\n",
    "\n"
   ]
  },
  {
   "cell_type": "code",
   "execution_count": 24,
   "metadata": {},
   "outputs": [
    {
     "data": {
      "text/html": [
       "0"
      ],
      "text/latex": [
       "0"
      ],
      "text/markdown": [
       "0"
      ],
      "text/plain": [
       "[1] 0"
      ]
     },
     "metadata": {},
     "output_type": "display_data"
    }
   ],
   "source": [
    "Hitters <- Hitters[-which(is.na(Hitters$Salary)), ]\n",
    "sum(is.na(Hitters$Salary))"
   ]
  },
  {
   "cell_type": "code",
   "execution_count": 27,
   "metadata": {},
   "outputs": [],
   "source": [
    "H <- Hitters$Salary <- log(Hitters$Salary)\n"
   ]
  },
  {
   "cell_type": "code",
   "execution_count": 28,
   "metadata": {},
   "outputs": [],
   "source": [
    "#B\n",
    "\n",
    "train <- 1:200\n",
    "t_set <- Hitters[train, ]\n",
    "te_set <- Hitters[-train, ]"
   ]
  },
  {
   "cell_type": "code",
   "execution_count": 37,
   "metadata": {},
   "outputs": [],
   "source": [
    "#C\n",
    "set.seed(123)\n",
    "lambda <- 10 ^ seq(-10, -0.2, length = 100)\n",
    "t_errors <- rep(NA, length(lambda))\n",
    "t_errors <- rep(NA, length(lambda))\n"
   ]
  },
  {
   "cell_type": "code",
   "execution_count": 39,
   "metadata": {},
   "outputs": [],
   "source": [
    "#D\n"
   ]
  },
  {
   "cell_type": "code",
   "execution_count": null,
   "metadata": {},
   "outputs": [],
   "source": []
  }
 ],
 "metadata": {
  "kernelspec": {
   "display_name": "R",
   "language": "R",
   "name": "ir"
  },
  "language_info": {
   "codemirror_mode": "r",
   "file_extension": ".r",
   "mimetype": "text/x-r-source",
   "name": "R",
   "pygments_lexer": "r",
   "version": "3.6.1"
  }
 },
 "nbformat": 4,
 "nbformat_minor": 2
}
